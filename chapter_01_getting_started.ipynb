{
 "cells": [
  {
   "cell_type": "markdown",
   "metadata": {},
   "source": [
    "# Python for Data Science\n",
    "\n",
    "**Chapter 1: Getting Started in Python**\n",
    "\n",
    "- Instructor: [Alier Reng](https://alierwai.org/about/), Alierwai DataStudio\n",
    "---"
   ]
  },
  {
   "cell_type": "markdown",
   "metadata": {},
   "source": [
    "## Introduction\n",
    "Data science, a multidisciplinary field that focuses on extracting insights from data, relies heavily on Python, R, and other programming languages. Python is the primary language used in this course due to its simplicity and robust libraries. This introductory data science course with Python will cover fundamental concepts, data manipulation with Pandas, and data visualization using Matplotlib and Seaborn. Learners will delve into data cleaning, preprocessing, and exploratory data analysis to prepare data for analysis. The course equips learners with a solid foundation to embark on a data science journey and apply their skills to real-world challenges.\n",
    "\n",
    "Upon completing this course, learners will be proficient in performing analyst tasks such as importing data with pandas, handling missing values, tidying and transforming data for further exploratory analysis, and effectively communicating their results to non-technical audiences."
   ]
  },
  {
   "cell_type": "markdown",
   "metadata": {},
   "source": [
    "## Chapter 1 Objective\n",
    "\n",
    "Upon completing this chapter, learners will be proficient in writing Python data structures and executing fundamental operations, including for loops, set operations, and writing robust functions. Additionally, they will be adept at working comfortably within either VS Code, Jupyter Notebook, or JupyterLab."
   ]
  },
  {
   "cell_type": "markdown",
   "metadata": {},
   "source": [
    "## 1. Setup\n",
    "\n",
    "### 1.1 Installing Anaconda\n",
    "\n",
    "Instructions will be added at a later date.\n",
    "\n",
    "### 1.2 Installing and Customizing VS Code\n",
    "\n",
    "To enable Python and Quarto, the following extensions are required:\n",
    "\n",
    "**2.1 IntelliSense (Pylance)**:\n",
    "\n",
    "A Visual Studio Code extension that offers comprehensive support for the Python language (for all actively supported versions: >=3.7). It includes features like IntelliSense (Pylance), linting, debugging, code navigation, code formatting, refactoring, variable explorer, test explorer, and more.\n",
    "\n",
    "**2.2 Python Indent**\n",
    "\n",
    "Ensures correct Python indentation in Visual Studio Code. You can find the extension on the VSCode Marketplace and review its source code on GitHub.\n",
    "\n",
    "**2.3 Python Extension Pack**\n",
    "\n",
    "A collection of Python extensions, including autodocstring, IntelliSense, Jinja, Django, Intellicode, and Python Environment Manager.\n",
    "\n",
    "**2.4 Python Environment Manager**\n",
    "\n",
    "Offers seamless management of Python environments.\n",
    "\n",
    "**2.5 Quarto Extension**\n",
    "\n",
    "Quarto is an open-source scientific and technical writing software developed by Posit (formerly RStudio).\n",
    "\n",
    "**2.6 Markdown Preview Enhanced**\n",
    "\n",
    "Markdown Preview Enhanced is an extension that provides you with many useful functionalities such as automatic scroll sync, math typesetting, mermaid, PlantUML, pandoc, PDF export, code chunk, presentation writer, etc. A lot of its ideas are inspired by Markdown Preview Plus and RStudio Markdown."
   ]
  },
  {
   "cell_type": "markdown",
   "metadata": {},
   "source": [
    "**3. Jupyter Notebook Overview**\n",
    "\n",
    "In this course, we will utilize Quarto instead of Jupyter Notebook or JupyterLab due to its distinctive capabilities. However, students are free to choose their preferred tool. Below are keyboard shortcuts for those who opt to use either Jupyter Notebook or JupyterLab :\n",
    "\n",
    "- Press 'a' to add a cell above the current cell.\n",
    "\n",
    "- Press 'b' to create a cell below the current cell.\n",
    "\n",
    "- Press 'x' to cut the cell.\n",
    "\n",
    "- Press 'c' to copy the cell.\n",
    "\n",
    "- Press 'v' to paste the copied content.\n",
    "\n",
    "- Press 'ESC + M' to switch the cell to Markdown Mode.\n",
    "\n",
    "- Press 'ESC + Y' to switch the cell to Code Mode.\n",
    "\n",
    "- Press 'TAB' to auto-complete what you're typing.\n",
    "\n",
    "- Press 'ESC + I, I' to interrupt the kernel.\n",
    "\n",
    "- Press 'ESC + 0, 0' to restart the kernel.\n",
    "\n",
    "- Press 'Ctrl + Return' to execute the cell.\n",
    "\n",
    "- Press 'Shift + Return' to execute the cell and add a cell below it.\n",
    "\n",
    "- Press 'Shift + Tab' to bring up Tooltip and press 'ESC' to undo it."
   ]
  },
  {
   "cell_type": "markdown",
   "metadata": {},
   "source": [
    "## 1.2 Fundamentals of Python\n",
    "\n",
    "In this section, students will acquire foundational knowledge of basic Python data structures and essential tools crucial for their journey in data science. Specifically, this section will cover key aspects, including control flow methods, data structures, and functions.\n",
    "\n",
    "### Control Flow Methods\n",
    "\n",
    "Control flow encompasses programming syntax that directs program execution. It enables dynamic adaptations based on the program's state or input, influencing output changes (Farrell et. all, 2020).\n",
    "\n",
    "#### if Statements\n",
    "\n",
    "Conditionals, often implemented as if statements, represent a prevalent form of control flow. They serve to assess the truth or falsehood of a given condition. if statement is expressed as follows in Python:\n"
   ]
  },
  {
   "cell_type": "code",
   "execution_count": 37,
   "metadata": {},
   "outputs": [
    {
     "name": "stdout",
     "output_type": "stream",
     "text": [
      "if [condition to check]:\n",
      "    do something\n",
      "    \n"
     ]
    }
   ],
   "source": [
    "print(\"\"\"if [condition to check]:\n",
    "    do something\n",
    "    \"\"\"\n",
    ")"
   ]
  },
  {
   "cell_type": "markdown",
   "metadata": {},
   "source": [
    "**Example 1**: Let's determine whether the given number is even or odd."
   ]
  },
  {
   "cell_type": "code",
   "execution_count": 87,
   "metadata": {},
   "outputs": [
    {
     "name": "stdout",
     "output_type": "stream",
     "text": [
      "x = 0 is even.\n",
      "x = 1 is odd.\n",
      "x = 2 is even.\n",
      "x = 3 is odd.\n",
      "x = 4 is even.\n",
      "x = 5 is odd.\n",
      "x = 6 is even.\n",
      "x = 7 is odd.\n",
      "x = 8 is even.\n",
      "x = 9 is odd.\n"
     ]
    }
   ],
   "source": [
    "# Check if a number is even or odd:\n",
    "for x in range(0, 10):\n",
    "    if x % 2 == 0:\n",
    "        print(f'{x = } is even.')\n",
    "    else:\n",
    "        print(f'{x = } is odd.')"
   ]
  },
  {
   "cell_type": "code",
   "execution_count": 95,
   "metadata": {},
   "outputs": [
    {
     "name": "stdout",
     "output_type": "stream",
     "text": [
      "y = 7\n"
     ]
    }
   ],
   "source": [
    "y = 7\n",
    "if y < 8:\n",
    "    print(f\"{y = }\")\n",
    "else:\n",
    "    print(\"y is less than 8.\")"
   ]
  },
  {
   "cell_type": "markdown",
   "metadata": {},
   "source": [
    "**Example 2**: Let's determine whether the given number is divisible by 3, 4, and 6.\n",
    "\n",
    "***Note:*** Because x % 3 == 0 meets the condition, the remaining checks are not performed."
   ]
  },
  {
   "cell_type": "code",
   "execution_count": 96,
   "metadata": {},
   "outputs": [
    {
     "name": "stdout",
     "output_type": "stream",
     "text": [
      "x is divisible by 3\n"
     ]
    }
   ],
   "source": [
    "x = 150\n",
    "\n",
    "if x % 3 == 0:\n",
    "    print(f'x is divisible by 3')\n",
    "elif x % 4 == 0:\n",
    "    print(f'x is divisible by 4')\n",
    "elif x % 6 == 0:\n",
    "    print(f'x is divisible by 6')\n",
    "else:\n",
    "    print(f'x is not divisible by 3, 4, or 6')"
   ]
  },
  {
   "cell_type": "code",
   "execution_count": 99,
   "metadata": {},
   "outputs": [
    {
     "name": "stdout",
     "output_type": "stream",
     "text": [
      "x = 15 is divisible by 3\n"
     ]
    }
   ],
   "source": [
    "x = 15\n",
    "\n",
    "if x % 2 == 0:\n",
    "    print(f'{x = } is divisible by 2')\n",
    "elif x % 3 == 0:\n",
    "    print(f'{x = } is divisible by 3')\n",
    "elif x % 6 == 0:\n",
    "    print(f'{x = } is divisible by 6')\n",
    "else:\n",
    "    print(f'{x = } is not divisible by 2, 4, or 6')"
   ]
  },
  {
   "cell_type": "code",
   "execution_count": 117,
   "metadata": {},
   "outputs": [
    {
     "name": "stdout",
     "output_type": "stream",
     "text": [
      "x = 240 is divisible by 240. Hooray!!\n"
     ]
    }
   ],
   "source": [
    "x = 240\n",
    "if x % 3 == 0 or x % 5 == 0 or x % 6 == 0:\n",
    "    print(f\"{x = } is divisible by 3, 4, and 6. Hooray!!\")\n",
    "else:\n",
    "    print(f\"{x = } is not divisible by all of these numbers.\")"
   ]
  },
  {
   "cell_type": "markdown",
   "metadata": {},
   "source": [
    "## Loops\n",
    "\n",
    "Loops are another example of a control flow method used extensively. There are two types of loops: while loops and for loops. The following examples illustrate the usage of each.\n",
    "\n",
    "**Example 3**: A while loop checks to determine whether the execution fulfills a given condition, and as long as the condition remains true, the loop continues to iterate."
   ]
  },
  {
   "cell_type": "code",
   "execution_count": 118,
   "metadata": {},
   "outputs": [
    {
     "name": "stdout",
     "output_type": "stream",
     "text": [
      "0\n",
      "1\n",
      "2\n",
      "3\n",
      "4\n",
      "5\n",
      "6\n",
      "7\n",
      "8\n",
      "9\n"
     ]
    }
   ],
   "source": [
    "# Using a while loop:\n",
    "y = 0\n",
    "while y < 10:\n",
    "    print(y)\n",
    "    y += 1"
   ]
  },
  {
   "cell_type": "markdown",
   "metadata": {},
   "source": [
    "**Example 4**: A for loop is employed to iterate through a given sequence of values."
   ]
  },
  {
   "cell_type": "code",
   "execution_count": 119,
   "metadata": {},
   "outputs": [
    {
     "name": "stdout",
     "output_type": "stream",
     "text": [
      "0\n",
      "2\n",
      "4\n",
      "6\n",
      "8\n"
     ]
    }
   ],
   "source": [
    "# Using a for loop:\n",
    "for i in range(10):\n",
    "    if i % 2 == 0:\n",
    "        print(i)"
   ]
  },
  {
   "cell_type": "code",
   "execution_count": 121,
   "metadata": {},
   "outputs": [
    {
     "name": "stdout",
     "output_type": "stream",
     "text": [
      "0\n",
      "9\n"
     ]
    }
   ],
   "source": [
    "for n in range(5):\n",
    "    if n % 3 == 0:\n",
    "        print(n**2)"
   ]
  },
  {
   "cell_type": "markdown",
   "metadata": {},
   "source": [
    "**Example 5**: Check if Jok Gai and Alier Pach is in the list"
   ]
  },
  {
   "cell_type": "code",
   "execution_count": 125,
   "metadata": {},
   "outputs": [
    {
     "name": "stdout",
     "output_type": "stream",
     "text": [
      "Hello, Jok Gai! Welcome to Python for Data Science.\n",
      "Hello, Alier Pach! Welcome to Python for Data Science.\n"
     ]
    }
   ],
   "source": [
    "my_list = ['alier reng', 'jok gai', 'deng mach', 'alier pach']\n",
    "\n",
    "for name in my_list:\n",
    "    if name == 'jok gai' or name == 'alier pach':\n",
    "        print(f'Hello, {name.title()}! Welcome to Python for Data Science.')"
   ]
  },
  {
   "cell_type": "markdown",
   "metadata": {},
   "source": [
    "\n",
    "### Data Structures\n",
    "\n",
    "Data structures are specialized formats for organizing and storing data to facilitate efficient operations like insertion, retrieval, and deletion. They define how data is arranged, stored, and manipulated within a computer's memory. The choice of a data structure depends on the specific requirements of the task, considering factors such as the type of data, the operations to be performed, and the efficiency of those operations.\n",
    "\n",
    "Common data structures include strings, arrays, lists, sets, dictionaries, and tuples. Each has unique characteristics and advantages, making them suitable for different computer science, programming, and data management scenarios. Selecting an appropriate data structure is crucial for optimizing algorithms and improving the overall performance of software systems.\n",
    "\n",
    "#### Strings\n",
    "\n",
    "Strings are sequences of characters, immutable in nature, and offer various methods for manipulation. String formatting options are %-formatting, str.format(), and f-strings. We will only learn about f-strings in this course.\n",
    "\n",
    "Example 6: f-strings"
   ]
  },
  {
   "cell_type": "code",
   "execution_count": 47,
   "metadata": {},
   "outputs": [
    {
     "name": "stdout",
     "output_type": "stream",
     "text": [
      "Hello, friends! Welcome to the Data Science Community!\n"
     ]
    }
   ],
   "source": [
    "a = \"Hello, friends!\"\n",
    "b = \" Welcome to the Data Science Community!\"\n",
    "\n",
    "print(f'{a + b}')"
   ]
  },
  {
   "cell_type": "code",
   "execution_count": 126,
   "metadata": {},
   "outputs": [
    {
     "name": "stdout",
     "output_type": "stream",
     "text": [
      "My name is Akuien! I'm 3 years old, and I'm 3.20 feet tall.\n"
     ]
    }
   ],
   "source": [
    "# %-formatting example:\n",
    "name = \"Akuien\"\n",
    "age = 3\n",
    "height = 3.2\n",
    "\n",
    "# Using %-formatting\n",
    "formatted_string = \"My name is %s! I'm %d years old, and I'm %.2f feet tall.\" % (name, age, height)\n",
    "\n",
    "print(formatted_string)\n"
   ]
  },
  {
   "cell_type": "code",
   "execution_count": 128,
   "metadata": {},
   "outputs": [
    {
     "name": "stdout",
     "output_type": "stream",
     "text": [
      "A is a capital letter!\n",
      "D is a capital letter!\n",
      "S is a capital letter!\n"
     ]
    }
   ],
   "source": [
    "my_string = \"Alierwai DataStudio\"\n",
    "for char in my_string:\n",
    "    if char == char.upper().strip():\n",
    "        print(f'{char} is a capital letter!')"
   ]
  },
  {
   "cell_type": "code",
   "execution_count": 50,
   "metadata": {},
   "outputs": [
    {
     "name": "stdout",
     "output_type": "stream",
     "text": [
      "Akuien is 3 years old! He is now a big boy.\n"
     ]
    }
   ],
   "source": [
    "name = 'akuien'\n",
    "age = 3\n",
    "print(f'{name.title()} is {age} years old! He is now a big boy.')"
   ]
  },
  {
   "cell_type": "markdown",
   "metadata": {},
   "source": [
    "**Example 6**: Numeric formatting options for strings"
   ]
  },
  {
   "cell_type": "code",
   "execution_count": 131,
   "metadata": {},
   "outputs": [
    {
     "name": "stdout",
     "output_type": "stream",
     "text": [
      "pi = 3.1416, rounded to four decimal places.\n",
      " \n",
      "sin(pi) = 0.00 and cos(pi) = -1.00\n"
     ]
    }
   ],
   "source": [
    "from math import pi, sin, cos\n",
    "print(f'pi = {pi:.4f}, rounded to four decimal places.')\n",
    "\n",
    "# Add a space between these outputs\n",
    "print(' ')\n",
    "\n",
    "print(f'sin(pi) = {sin(pi):.2f} and cos(pi) = {cos(pi):.2f}')"
   ]
  },
  {
   "cell_type": "code",
   "execution_count": 132,
   "metadata": {},
   "outputs": [
    {
     "name": "stdout",
     "output_type": "stream",
     "text": [
      "The current time is 13:09:23, EDT.\n"
     ]
    }
   ],
   "source": [
    "# Displaying the current time:\n",
    "from datetime import datetime as dt\n",
    "print(f'The current time is {dt.now():%H:%M:%S}, EDT.')"
   ]
  },
  {
   "cell_type": "code",
   "execution_count": 137,
   "metadata": {},
   "outputs": [
    {
     "name": "stdout",
     "output_type": "stream",
     "text": [
      "01. Kamusi Ya Kiswahili Sanifu is $43.98 on amazon.com.\n",
      "03.          R 4 Data Science is $56.87 on amazon.com.\n",
      "10.         Effective Pandas' is $34.09 on amazon.com.\n"
     ]
    }
   ],
   "source": [
    "# Using the f-strings formatting:\n",
    "my_books = [(1, \"Kamusi Ya Kiswahili Sanifu\", \"43.98\"), (3, \"R 4 Data Science\", \"56.87\"), (10, \"Effective Pandas'\", \"34.09\")]\n",
    "for i, title, cost in my_books:\n",
    "    print(f\"{i:02}. {title:>25} is ${cost} on amazon.com.\")"
   ]
  },
  {
   "cell_type": "code",
   "execution_count": 142,
   "metadata": {},
   "outputs": [
    {
     "name": "stdout",
     "output_type": "stream",
     "text": [
      "01. Kamusi Ya Kiswahili Sanifu is $43.98 on amazon.com.\n",
      "03. R 4 Data Science.......... is $56.87 on amazon.com.\n",
      "10. Effective Pandas.......... is $34.09 on amazon.com.\n"
     ]
    }
   ],
   "source": [
    "# Using the f-strings formatting:\n",
    "my_books = [(1, \"Kamusi Ya Kiswahili Sanifu\", \"43.98\"), (3, \"R 4 Data Science\", \"56.87\"), (10, \"Effective Pandas\", \"34.09\")]\n",
    "for i, title, cost in my_books:\n",
    "    print(f\"{i:02}. {title:.<26} is ${cost} on amazon.com.\")"
   ]
  },
  {
   "cell_type": "markdown",
   "metadata": {},
   "source": [
    "#### Lists\n",
    "\n",
    "Python lists stand out as the most commonly used data structure, offering the flexibility to contain a mix of numbers, strings, and tuples, e.g., `my_list = [1, 2, 'a', 'x', (1, 2, 3)]`.\n",
    "\n",
    "**Example 7**: When working with Python lists, elements can be added in two ways: append() inserts a single element at the end of a list, while list concatenation combines two lists."
   ]
  },
  {
   "cell_type": "code",
   "execution_count": 61,
   "metadata": {},
   "outputs": [
    {
     "name": "stdout",
     "output_type": "stream",
     "text": [
      "My updated list is [1, 2, 'a', 'x', (1, 2, 3), 4]\n",
      "My concatenated list is [1, 2, 'a', 'x', (1, 2, 3), 4, 5, 12, -8]\n"
     ]
    }
   ],
   "source": [
    "my_list = [1, 2, 'a', 'x', (1, 2, 3)]\n",
    "\n",
    "# Add 4 to my_list\n",
    "my_list.append(4)\n",
    "print(f'My updated list is {my_list}')\n",
    "\n",
    "# Create a new list\n",
    "b = [5, 12, -8]\n",
    "\n",
    "print(f'My concatenated list is {my_list + b}')"
   ]
  },
  {
   "cell_type": "markdown",
   "metadata": {},
   "source": [
    "You can remove an element from a list with the pop() method using the index of the element being removed."
   ]
  },
  {
   "cell_type": "code",
   "execution_count": 62,
   "metadata": {},
   "outputs": [
    {
     "data": {
      "text/plain": [
       "-8"
      ]
     },
     "execution_count": 62,
     "metadata": {},
     "output_type": "execute_result"
    }
   ],
   "source": [
    "# Remove -8 from b above\n",
    "b.pop(2)"
   ]
  },
  {
   "cell_type": "markdown",
   "metadata": {},
   "source": [
    "Now, let's create a new by modifying an existing list."
   ]
  },
  {
   "cell_type": "code",
   "execution_count": 63,
   "metadata": {},
   "outputs": [
    {
     "name": "stdout",
     "output_type": "stream",
     "text": [
      "[9, 21]\n",
      "square_even_nums are: [16, 64, 100, 144]\n"
     ]
    }
   ],
   "source": [
    "c = [4, 3, 8, 7, 10, 12]\n",
    "\n",
    "d = [3 * i for i in c if i % 2 == 1]\n",
    "print(d)\n",
    "\n",
    "# Square even elements in list c\n",
    "square_even_nums = [i**2 for i in c if i % 2 == 0]\n",
    "print(f'square_even_nums are: {square_even_nums}')"
   ]
  },
  {
   "cell_type": "markdown",
   "metadata": {},
   "source": [
    "**Example 8**: Working with multi-dimensional lists"
   ]
  },
  {
   "cell_type": "code",
   "execution_count": 64,
   "metadata": {},
   "outputs": [
    {
     "name": "stdout",
     "output_type": "stream",
     "text": [
      "[0, 2, 5]\n",
      "[8, 6, 4]\n",
      "[7, 12, 15]\n"
     ]
    }
   ],
   "source": [
    "multi_list = [[0, 2, 5], [8, 6, 4], [7, 12, 15]]\n",
    "\n",
    "# Let's print a row: here, a sublist is assigned to a variable called row:\n",
    "for row in multi_list:\n",
    "    print(row)"
   ]
  },
  {
   "cell_type": "code",
   "execution_count": 67,
   "metadata": {},
   "outputs": [
    {
     "name": "stdout",
     "output_type": "stream",
     "text": [
      "0\n",
      "8\n",
      "7\n"
     ]
    }
   ],
   "source": [
    "# print out the first element in each sublist:\n",
    "for row in multi_list:\n",
    "    print(row[0])"
   ]
  },
  {
   "cell_type": "code",
   "execution_count": 68,
   "metadata": {},
   "outputs": [
    {
     "name": "stdout",
     "output_type": "stream",
     "text": [
      "0\n",
      "2\n",
      "5\n",
      "8\n",
      "6\n",
      "4\n",
      "7\n",
      "12\n",
      "15\n"
     ]
    }
   ],
   "source": [
    "# Print out the values of all the cells in multi_list by havin a nested for loop:\n",
    "for row in multi_list:\n",
    "    for element in row:\n",
    "        print(element)"
   ]
  },
  {
   "cell_type": "markdown",
   "metadata": {},
   "source": [
    "This is because the row index and the column index of a diagonal element in a table/matrix are equal."
   ]
  },
  {
   "cell_type": "code",
   "execution_count": 69,
   "metadata": {},
   "outputs": [
    {
     "name": "stdout",
     "output_type": "stream",
     "text": [
      "0\n",
      "6\n",
      "15\n"
     ]
    }
   ],
   "source": [
    "# Print out the values of all the cells in multi_list by havin a nested for loop\n",
    "# Print out the diagonal elements in a nicely formatted message. To do this, we can have an indexing variable i; loop from 0 t0 2\n",
    "for i in range(3):\n",
    "    print(multi_list[i][i])"
   ]
  },
  {
   "cell_type": "markdown",
   "metadata": {},
   "source": [
    "Next, let's make the above a bit pretty using the f-strings."
   ]
  },
  {
   "cell_type": "code",
   "execution_count": 64,
   "metadata": {},
   "outputs": [
    {
     "name": "stdout",
     "output_type": "stream",
     "text": [
      "1-th diagonal element is: 0\n",
      "2-th diagonal element is: 6\n",
      "3-th diagonal element is: 15\n"
     ]
    }
   ],
   "source": [
    "# Print out the diagonal elements in a nicely formatted message. To do this, we can have an indexing variable i; loop from 0 t0 2:\n",
    "for i in range(3):\n",
    "    print(f'{i + 1}-th diagonal element is: {multi_list[i][i]}')"
   ]
  },
  {
   "cell_type": "code",
   "execution_count": 70,
   "metadata": {},
   "outputs": [
    {
     "name": "stdout",
     "output_type": "stream",
     "text": [
      "01-th diagonal element is: 0\n",
      "02-th diagonal element is: 6\n",
      "03-th diagonal element is: 15\n"
     ]
    }
   ],
   "source": [
    "# Print out the diagonal elements in a nicely formatted message. To do this, we can have an indexing variable i; loop from 0 t0 2:\n",
    "for i in range(3):\n",
    "    print(f'{i + 1:02d}-th diagonal element is: {multi_list[i][i]}')"
   ]
  },
  {
   "cell_type": "markdown",
   "metadata": {},
   "source": [
    "### Tuples\n",
    "\n",
    "Tuples are similar to list; however, they are immutable objects in Python - they can't be changed.\n",
    "\n",
    "**Example 9**:"
   ]
  },
  {
   "cell_type": "code",
   "execution_count": 71,
   "metadata": {},
   "outputs": [
    {
     "ename": "TypeError",
     "evalue": "'tuple' object does not support item assignment",
     "output_type": "error",
     "traceback": [
      "\u001b[0;31m---------------------------------------------------------------------------\u001b[0m",
      "\u001b[0;31mTypeError\u001b[0m                                 Traceback (most recent call last)",
      "Cell \u001b[0;32mIn[71], line 3\u001b[0m\n\u001b[1;32m      1\u001b[0m \u001b[38;5;66;03m# Try changing a tuple\u001b[39;00m\n\u001b[1;32m      2\u001b[0m a \u001b[38;5;241m=\u001b[39m (\u001b[38;5;241m0\u001b[39m, \u001b[38;5;241m1\u001b[39m, \u001b[38;5;241m2\u001b[39m, \u001b[38;5;241m3\u001b[39m)\n\u001b[0;32m----> 3\u001b[0m \u001b[43ma\u001b[49m\u001b[43m[\u001b[49m\u001b[38;5;241;43m2\u001b[39;49m\u001b[43m]\u001b[49m \u001b[38;5;241m=\u001b[39m \u001b[38;5;241m5\u001b[39m \u001b[38;5;66;03m# this throws an TypeError: 'tuple' object does not support item assignment\u001b[39;00m\n",
      "\u001b[0;31mTypeError\u001b[0m: 'tuple' object does not support item assignment"
     ]
    }
   ],
   "source": [
    "# Try changing a tuple:\n",
    "a = (0, 1, 2, 3)\n",
    "a[2] = 5 # this throws an TypeError: 'tuple' object does not support item assignment"
   ]
  },
  {
   "cell_type": "code",
   "execution_count": 72,
   "metadata": {},
   "outputs": [
    {
     "ename": "AttributeError",
     "evalue": "'tuple' object has no attribute 'append'",
     "output_type": "error",
     "traceback": [
      "\u001b[0;31m---------------------------------------------------------------------------\u001b[0m",
      "\u001b[0;31mAttributeError\u001b[0m                            Traceback (most recent call last)",
      "Cell \u001b[0;32mIn[72], line 2\u001b[0m\n\u001b[1;32m      1\u001b[0m \u001b[38;5;66;03m# Try appending 7 to a\u001b[39;00m\n\u001b[0;32m----> 2\u001b[0m \u001b[43ma\u001b[49m\u001b[38;5;241;43m.\u001b[39;49m\u001b[43mappend\u001b[49m(\u001b[38;5;241m7\u001b[39m)\n",
      "\u001b[0;31mAttributeError\u001b[0m: 'tuple' object has no attribute 'append'"
     ]
    }
   ],
   "source": [
    "# Try appending 7 to a\n",
    "a.append(7)"
   ]
  },
  {
   "cell_type": "code",
   "execution_count": 73,
   "metadata": {},
   "outputs": [
    {
     "name": "stdout",
     "output_type": "stream",
     "text": [
      "(1, 2, 3)\n",
      "(1, 'Hello', 3.4)\n",
      "('mouse', [8, 4, 6], (1, 2, 3))\n"
     ]
    }
   ],
   "source": [
    "# Tuple with integers:\n",
    "int_tuple = (1, 2, 3)\n",
    "print(int_tuple)\n",
    "\n",
    "# tuple with mixed datatypes:\n",
    "my_tuple = (1, \"Hello\", 3.4)\n",
    "print(my_tuple)\n",
    "\n",
    "# nested tuple:\n",
    "nested_tuple = (\"mouse\", [8, 4, 6], (1, 2, 3))\n",
    "print(nested_tuple)"
   ]
  },
  {
   "cell_type": "markdown",
   "metadata": {},
   "source": [
    "### Sets\n",
    "\n",
    "A Python set is a collection of unordered elements. A set is initialized with curly brackets, and we can add elements to a set with the add() method.\n",
    "\n",
    "***Note:*** Given that a set is a collection of Python elements, it can be iterated over with a for loop; however, the elements may not necessarily appear in the order they were initialized. Additionally, there is no effect when adding an already existing element to the set."
   ]
  },
  {
   "cell_type": "code",
   "execution_count": 74,
   "metadata": {},
   "outputs": [
    {
     "name": "stdout",
     "output_type": "stream",
     "text": [
      "{9, 4, 5, 7}\n",
      "This is our updated set a after adding 4 to it: {9, 4, 5, 7}\n"
     ]
    }
   ],
   "source": [
    "# Create a set: \n",
    "a = {4, 5, 7}\n",
    "\n",
    "# Add 9 to a:\n",
    "a.add(9)\n",
    "print(a)\n",
    "\n",
    "# Add 4 to a:\n",
    "a.add(4)\n",
    "print(f'This is our updated set a after adding 4 to it: {a}')"
   ]
  },
  {
   "cell_type": "markdown",
   "metadata": {},
   "source": [
    "#### Set Operations\n",
    "\n",
    "Set operations can be performed in Python with the union() and intersection() methods.\n",
    "\n",
    "**Example 10**:"
   ]
  },
  {
   "cell_type": "code",
   "execution_count": 75,
   "metadata": {},
   "outputs": [
    {
     "name": "stdout",
     "output_type": "stream",
     "text": [
      "The union of sets a & b is {3, 4, 5, 6, 7, 9}\n",
      "The intersection sets a & b is {7}\n"
     ]
    }
   ],
   "source": [
    "#Create set b:\n",
    "b = {3, 7, 6}\n",
    "\n",
    "# Perform a union:\n",
    "print(f'The union of sets a & b is {a.union(b)}')\n",
    "\n",
    "# Find the intersection of sets a & b:\n",
    "print(f'The intersection sets a & b is {a.intersection(b)}')"
   ]
  },
  {
   "cell_type": "code",
   "execution_count": 76,
   "metadata": {},
   "outputs": [
    {
     "name": "stdout",
     "output_type": "stream",
     "text": [
      "{5, 7}\n",
      " \n",
      "{3, 6}\n"
     ]
    }
   ],
   "source": [
    "# Remove an element from a set: use discard() or remove():\n",
    "a = {4, 5, 7}\n",
    "a.remove(4)\n",
    "print(a)\n",
    "\n",
    "print(' ')\n",
    "\n",
    "b = {3, 7, 6}\n",
    "b.discard(7)\n",
    "print(b)"
   ]
  },
  {
   "cell_type": "markdown",
   "metadata": {},
   "source": [
    "### Dictionaries\n",
    "Python dictionaries are unordered collections of key-value pairs that provide fast lookups and retrievals based on keys."
   ]
  },
  {
   "cell_type": "code",
   "execution_count": 77,
   "metadata": {},
   "outputs": [],
   "source": [
    "# Let's a dictionary containing students' names mapped to their course grades\n",
    "student_grades = {'akuien':97, \n",
    "                  'kiir':96, \n",
    "                  'garang':100,\n",
    "                  'ayen':89\n",
    "                  }"
   ]
  },
  {
   "cell_type": "markdown",
   "metadata": {},
   "source": [
    "In the above example, the students' names represent the keys, and the grades represent the values."
   ]
  },
  {
   "cell_type": "code",
   "execution_count": 78,
   "metadata": {},
   "outputs": [
    {
     "data": {
      "text/plain": [
       "97"
      ]
     },
     "execution_count": 78,
     "metadata": {},
     "output_type": "execute_result"
    }
   ],
   "source": [
    "student_grades['akuien']"
   ]
  },
  {
   "cell_type": "code",
   "execution_count": 79,
   "metadata": {},
   "outputs": [
    {
     "name": "stdout",
     "output_type": "stream",
     "text": [
      "Akuien scored 97% in this test.\n"
     ]
    }
   ],
   "source": [
    "# Example\n",
    "print(f\"Akuien scored {student_grades['akuien']}% in this test.\")"
   ]
  },
  {
   "cell_type": "markdown",
   "metadata": {},
   "source": [
    "As shown below, we can change a dictionary's existing keys and values."
   ]
  },
  {
   "cell_type": "code",
   "execution_count": 80,
   "metadata": {},
   "outputs": [
    {
     "name": "stdout",
     "output_type": "stream",
     "text": [
      "Ayen scored 100% in this test.\n"
     ]
    }
   ],
   "source": [
    "# Change a dictionary's existing value\n",
    "student_grades[\"ayen\"] = 100\n",
    "\n",
    "print(f\"Ayen scored {student_grades['ayen']}% in this test.\")"
   ]
  },
  {
   "cell_type": "code",
   "execution_count": 81,
   "metadata": {},
   "outputs": [],
   "source": [
    "# Adding a new key and value to a dictionary\n",
    "student_grades[\"atoch\"] = 99"
   ]
  },
  {
   "cell_type": "code",
   "execution_count": 82,
   "metadata": {},
   "outputs": [
    {
     "name": "stdout",
     "output_type": "stream",
     "text": [
      "{'akuien': 97, 'kiir': 96, 'garang': 100, 'ayen': 100, 'atoch': 99}\n"
     ]
    }
   ],
   "source": [
    "# Print the updated dictionary\n",
    "print(student_grades)"
   ]
  },
  {
   "cell_type": "code",
   "execution_count": 83,
   "metadata": {},
   "outputs": [
    {
     "data": {
      "text/plain": [
       "{-5: 25, -4: 16, -3: 9, -2: 4, -1: 1, 0: 0, 1: 1, 2: 4, 3: 9, 4: 16}"
      ]
     },
     "execution_count": 83,
     "metadata": {},
     "output_type": "execute_result"
    }
   ],
   "source": [
    "# A dictionary can also be initialized or declared as a list comprehension.\n",
    "squared_nums = {i: i**2 for i in range(-5, 5)}\n",
    "\n",
    "squared_nums"
   ]
  },
  {
   "cell_type": "markdown",
   "metadata": {},
   "source": [
    "It is noteworthy that dictionary keys can only be created using immutable objects. This means tuples can be used as dictionary keys, but lists can't."
   ]
  },
  {
   "cell_type": "code",
   "execution_count": 84,
   "metadata": {},
   "outputs": [
    {
     "name": "stdout",
     "output_type": "stream",
     "text": [
      "{'akuien': 97, 'kiir': 96, 'garang': 100, 'atoch': 99}\n"
     ]
    }
   ],
   "source": [
    "# Deleting a dictionary key-value:\n",
    "del student_grades['ayen']\n",
    "\n",
    "print(student_grades)"
   ]
  },
  {
   "cell_type": "markdown",
   "metadata": {},
   "source": [
    "### for loops"
   ]
  },
  {
   "cell_type": "code",
   "execution_count": 85,
   "metadata": {},
   "outputs": [
    {
     "name": "stdout",
     "output_type": "stream",
     "text": [
      "akuien 97\n",
      "kiir 96\n",
      "garang 100\n",
      "atoch 99\n"
     ]
    }
   ],
   "source": [
    "# Let's loop through the student_grades:\n",
    "for k, v in student_grades.items():\n",
    "    print(k, v)"
   ]
  },
  {
   "cell_type": "code",
   "execution_count": 100,
   "metadata": {},
   "outputs": [
    {
     "name": "stdout",
     "output_type": "stream",
     "text": [
      "Akuien......... 97\n",
      "Kiir........... 96\n",
      "Garang......... 100\n",
      "Atoch.......... 99\n"
     ]
    }
   ],
   "source": [
    "# Let's make this pretty:\n",
    "for k, v in student_grades.items():\n",
    "    print(f\"{k.title():.<15} {v}\")"
   ]
  },
  {
   "cell_type": "code",
   "execution_count": 103,
   "metadata": {},
   "outputs": [
    {
     "name": "stdout",
     "output_type": "stream",
     "text": [
      "....Akuien 97\n",
      "......Kiir 96\n",
      "....Garang 100\n",
      ".....Atoch 99\n"
     ]
    }
   ],
   "source": [
    "# Let's make this pretty:\n",
    "for k, v in student_grades.items():\n",
    "    print(f\"{k.title():.>10} {v}\")"
   ]
  },
  {
   "cell_type": "markdown",
   "metadata": {},
   "source": [
    "Pairing two or more sequences with a `zip()` function."
   ]
  },
  {
   "cell_type": "code",
   "execution_count": 109,
   "metadata": {},
   "outputs": [
    {
     "name": "stdout",
     "output_type": "stream",
     "text": [
      "What is your name?  It is akuien.\n",
      "What is your interest?  It is data science & computer science.\n",
      "What is your favorite programming language?  It is python.\n"
     ]
    }
   ],
   "source": [
    "# Create two sequences\n",
    "questions = ['name', 'interest', 'favorite programming language']\n",
    "responses = ['akuien', 'data science & computer science', 'python']\n",
    "for q, r in zip(questions, responses):\n",
    "    print('What is your {0}?  It is {1}.'.format(q, r))\n",
    "    \n"
   ]
  },
  {
   "cell_type": "code",
   "execution_count": 112,
   "metadata": {},
   "outputs": [
    {
     "name": "stdout",
     "output_type": "stream",
     "text": [
      "What is your name?  My name is Akuien.\n",
      "What is your interest?  My interest is Data Science & Computer Science.\n",
      "What is your favorite programming language?  My favorite programming language is Python.\n"
     ]
    }
   ],
   "source": [
    "# Let's repeat the above example using f-strings\n",
    "for q, r in zip(questions, responses):\n",
    "    print(f'What is your {q}?  My {q} is {r.title()}.')"
   ]
  },
  {
   "cell_type": "markdown",
   "metadata": {},
   "source": [
    "## Functions\n",
    "A function is essentially an object capable of receiving an input and generating an output based on a specific set of instructions. A `Python` function is defined as follows:"
   ]
  },
  {
   "cell_type": "code",
   "execution_count": 96,
   "metadata": {},
   "outputs": [
    {
     "name": "stdout",
     "output_type": "stream",
     "text": [
      "\n",
      "def func_name(arg_1, arg_2, ...):\n",
      "\n",
      "   do something here!\n",
      "\n",
      "   return [output]\n",
      "\n"
     ]
    }
   ],
   "source": [
    "print(f\"\"\"\n",
    "def func_name(arg_1, arg_2, ...):\n",
    "\n",
    "   do something here!\n",
    "\n",
    "   return [output]\n",
    "\"\"\")"
   ]
  },
  {
   "cell_type": "markdown",
   "metadata": {},
   "source": [
    "### Examples of Python Functions"
   ]
  },
  {
   "cell_type": "code",
   "execution_count": 2,
   "metadata": {},
   "outputs": [],
   "source": [
    "# Define a function for extracting first names \n",
    "def welcome_learners(full_name):\n",
    "    names = full_name.split()\n",
    "    \n",
    "    if len(names) >= 2:\n",
    "        first_name = names[0]\n",
    "        return f\"Hello, {first_name.title()}! Welcome to Alierwai DataStudio!!\"\n",
    "    else:\n",
    "        return \"Please provide at least two names.\"\n",
    "\n"
   ]
  },
  {
   "cell_type": "code",
   "execution_count": 3,
   "metadata": {},
   "outputs": [
    {
     "name": "stdout",
     "output_type": "stream",
     "text": [
      "Hello, Alier! Welcome to Alierwai DataStudio!!\n"
     ]
    }
   ],
   "source": [
    "# Example usage:\n",
    "greeting = welcome_learners('alier pach')\n",
    "print(greeting)"
   ]
  },
  {
   "cell_type": "code",
   "execution_count": 4,
   "metadata": {},
   "outputs": [
    {
     "data": {
      "text/plain": [
       "25"
      ]
     },
     "execution_count": 4,
     "metadata": {},
     "output_type": "execute_result"
    }
   ],
   "source": [
    "# Squaring a number\n",
    "def square_num(num):\n",
    "    return num**2\n",
    "\n",
    "square_num(5)\n",
    "    "
   ]
  },
  {
   "cell_type": "code",
   "execution_count": 5,
   "metadata": {},
   "outputs": [],
   "source": [
    "# Write a function for calculating a mean\n",
    "from math import sqrt\n",
    "def calc_mean(x) -> float:\n",
    "    avg = sum(x) / len(x)\n",
    "    \n",
    "    return avg"
   ]
  },
  {
   "cell_type": "code",
   "execution_count": 6,
   "metadata": {},
   "outputs": [
    {
     "data": {
      "text/plain": [
       "3.0"
      ]
     },
     "execution_count": 6,
     "metadata": {},
     "output_type": "execute_result"
    }
   ],
   "source": [
    "x = [1, 2, 3 , 4, 5]\n",
    "calc_mean(x)"
   ]
  },
  {
   "cell_type": "markdown",
   "metadata": {},
   "source": [
    "##  Miscellaneous\n",
    "\n",
    "### Mathematical Operations \n",
    "Below are the Python allowed arthemtic operations:\n",
    "\n",
    "1. Addition: +\n",
    "2. Subtraction: -\n",
    "3. Multiplication: *\n",
    "4. Division: /\n",
    "5. Integer Division (modular division): // and\n",
    "6. Exponents: **"
   ]
  },
  {
   "cell_type": "code",
   "execution_count": 104,
   "metadata": {},
   "outputs": [
    {
     "name": "stdout",
     "output_type": "stream",
     "text": [
      "z = 16\n",
      "x - y = 2\n",
      "x * y = 63\n",
      "x / y = 1.2857142857142858\n",
      "x // y = 1\n",
      "x**y = 4782969\n",
      "x % y = 2\n"
     ]
    }
   ],
   "source": [
    "# Using Python mathematical operations\n",
    "# Addition: +\n",
    "x = 9\n",
    "y = 7\n",
    " \n",
    "z = x + y\n",
    " \n",
    "print(f'{z = }')\n",
    "\n",
    "# Substraction: -\n",
    "\n",
    "print(f'{x - y = }')\n",
    "\n",
    "# Multiplication: *\n",
    "print(f'{x * y = }')\n",
    "\n",
    "# Division: /\n",
    "print(f'{x / y = }')\n",
    "\n",
    "# Integer division: //\n",
    "print(f'{x // y = }')\n",
    "\n",
    "# Exponents: **\n",
    "print(f'{x**y = }')\n",
    "\n",
    "# Modulo: %\n",
    "print(f'{x % y = }')"
   ]
  },
  {
   "cell_type": "markdown",
   "metadata": {},
   "source": [
    "## Practice Exercises\n",
    "\n",
    "Let's go ahead and apply the knowledge you've gained in the preceding sections through these practice exercises. Challenge yourself and reinforce your understanding by solving the following problems."
   ]
  },
  {
   "cell_type": "markdown",
   "metadata": {},
   "source": [
    "**Exercise 1:**\n",
    "\n",
    "i) Create the list of the first several Fibonacci numbers:\n",
    "\n",
    "1, 1, 2, 3, 5, 8, 13, 21, 34, 55, 89.\n",
    " \n",
    "ii) Print the first four elements of the list.\n",
    "\n",
    "iii) Print every third element of the list starting from the first.\n",
    "\n",
    "iv) Print the last element of the list.\n",
    "\n",
    "v) Print the list in reverse order.\n",
    "\n",
    "vi) Print the list starting at the last element and counting backward by every other element."
   ]
  },
  {
   "cell_type": "markdown",
   "metadata": {},
   "source": [
    "**Exercise 2: for loop**\n",
    "\n",
    "We want to sum the first 100 perfect cubes. Let’s do this in two ways.\n",
    "\n",
    "a) Start off a variable called Total at 0 and write a for loop that adds the next perfect cube to the running total.\n",
    "\n",
    "b) Write a for loop that builds the sequence of the first 100 perfect cubes. After the list has been built find the sum with the sum command."
   ]
  },
  {
   "cell_type": "markdown",
   "metadata": {},
   "source": [
    "**Exercise 3: while loop**\n",
    "\n",
    "Write a while loop that sums the terms in the Fibonacci sequence until the sum is larger than 1000\n"
   ]
  },
  {
   "cell_type": "markdown",
   "metadata": {},
   "source": [
    "# References\n",
    "\n",
    "1. Harrison, M. (2021). Effective Pandas: Patterns for data manipulation.\n",
    "\n",
    "2. Farrell, P., Fuentes, A., Kolhe, A. S., Nguyen, Q., Sarver, A. J., Tsatsos, M. (2020). The Statistics and Calculus with Python Workshop: A comprehensive introduction to mathematics in Python for artificial intelligence applications. Packt Publishing. Kindle Edition.\n",
    "3. Python Documentation: https://docs.python.org/3/tutorial/datastructures.html\n",
    "4. Python f-string tips & cheatsheets by **Trey Hunner**: https://www.pythonmorsels.com/string-formatting/?ck_subscriber_id=1493298043\n",
    "5. Sullivan, E. (2022). *Numerical Methods: An Inquiry-Based Approach With Python.* Retrieved from:https://numericalmethodssullivan.github.io/index.html#resources"
   ]
  }
 ],
 "metadata": {
  "kernelspec": {
   "display_name": "Python 3 (ipykernel)",
   "language": "python",
   "name": "python3"
  },
  "language_info": {
   "codemirror_mode": {
    "name": "ipython",
    "version": 3
   },
   "file_extension": ".py",
   "mimetype": "text/x-python",
   "name": "python",
   "nbconvert_exporter": "python",
   "pygments_lexer": "ipython3",
   "version": "3.11.6"
  }
 },
 "nbformat": 4,
 "nbformat_minor": 2
}
