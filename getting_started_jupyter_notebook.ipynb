{
 "cells": [
  {
   "cell_type": "code",
   "execution_count": 3,
   "id": "5e6bbaa4",
   "metadata": {},
   "outputs": [],
   "source": [
    "x = 5"
   ]
  },
  {
   "cell_type": "code",
   "execution_count": 8,
   "id": "d1404c8b",
   "metadata": {},
   "outputs": [
    {
     "name": "stdout",
     "output_type": "stream",
     "text": [
      "8\n"
     ]
    }
   ],
   "source": [
    "# Cntrl + Return or Return + Shift\n",
    "y = 8\n",
    "print(y)"
   ]
  },
  {
   "cell_type": "markdown",
   "id": "971eea4f",
   "metadata": {},
   "source": [
    "# This is the title - Header 1"
   ]
  },
  {
   "cell_type": "markdown",
   "id": "5bb21a17",
   "metadata": {},
   "source": [
    "## Header 2"
   ]
  },
  {
   "cell_type": "markdown",
   "id": "15eed9c9",
   "metadata": {},
   "source": [
    "### Header 3"
   ]
  },
  {
   "cell_type": "code",
   "execution_count": 12,
   "id": "6fe79356",
   "metadata": {},
   "outputs": [],
   "source": [
    "import numpy as np"
   ]
  },
  {
   "cell_type": "code",
   "execution_count": 14,
   "id": "3d8a4fcb",
   "metadata": {},
   "outputs": [],
   "source": [
    "import pandas as pd"
   ]
  },
  {
   "cell_type": "code",
   "execution_count": 15,
   "id": "8c14adb3",
   "metadata": {},
   "outputs": [
    {
     "name": "stdout",
     "output_type": "stream",
     "text": [
      "Retrieving notices: ...working... done\n",
      "Collecting package metadata (current_repodata.json): done\n",
      "Solving environment: unsuccessful initial attempt using frozen solve. Retrying with flexible solve.\n",
      "Solving environment: / ^C\n",
      "unsuccessful attempt using repodata from current_repodata.json, retrying with next repodata source.\n",
      "\n",
      "CondaError: KeyboardInterrupt\n",
      "\n"
     ]
    }
   ],
   "source": [
    "!conda install pyjanitor"
   ]
  },
  {
   "cell_type": "code",
   "execution_count": null,
   "id": "c023502b",
   "metadata": {},
   "outputs": [],
   "source": [
    "# To interrupt the kernel: press ESC + I, I"
   ]
  }
 ],
 "metadata": {
  "kernelspec": {
   "display_name": "Python 3 (ipykernel)",
   "language": "python",
   "name": "python3"
  },
  "language_info": {
   "codemirror_mode": {
    "name": "ipython",
    "version": 3
   },
   "file_extension": ".py",
   "mimetype": "text/x-python",
   "name": "python",
   "nbconvert_exporter": "python",
   "pygments_lexer": "ipython3",
   "version": "3.11.5"
  }
 },
 "nbformat": 4,
 "nbformat_minor": 5
}
