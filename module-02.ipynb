{
 "cells": [
  {
   "cell_type": "markdown",
   "metadata": {},
   "source": [
    "# Module 2: Essential Python Libraries\n",
    "\n",
    "In this module, we will learn about some of the essential `Python` libraries for data science, such as *`numPy`, `pandas`,`matplotlib`, and `pyjanitor`*.\n",
    "\n",
    "- **NumPy**\n",
    "  `Numpy`, which stands for *Numerical Python*, is \"the fundamental package for scientific computing in Python.\" In this module, we will briefly discuss `NumPy`. For example, we will demonstrate how to:\n",
    "    - Create NumPy arrays and perform basic operations.\n",
    "    - Apply mathematical functions to arrays.\n",
    "  \n",
    "- **Pandas**\n",
    "  `pandas` is the main library for data cleaning and transformation (wrangling) in `Python`. We will use `pandas 2` in this course. Essential functions of the `pandas` library include:\n",
    "    - Loading datasets.\n",
    "    - Exploring and manipulating data.\n",
    "\n",
    "- **Matplotlib**\n",
    "    > Matplotlib is a comprehensive library for creating static, animated, and interactive visualizations in Python. Matplotlib makes easy things easy and hard things possible.\n",
    "    > - Create publication quality plots.\n",
    "    > - Make interactive figures that can zoom, pan, and update.\n",
    "    >  - Customize visual style and layout.\n",
    "    > - Export to many file formats.\n",
    "    > - Embed in JupyterLab and Graphical User Interfaces.\n",
    "   > - Use a rich array of third-party packages built on Matplotlib.\n",
    "\n",
    "- **Pyjanitor**\n",
    "  > pyjanitor is a Python implementation of the R package janitor, and provides a clean API for cleaning data.\n",
    "\n",
    "  > Functionality\n",
    "  Current functionality includes:\n",
    "  - Cleaning columns name (multi-indexes are possible!)\n",
    "  - Removing empty rows and columns\n",
    "  - Identifying duplicate entries\n",
    "  - Encoding columns as categorical\n",
    "  - Splitting your data into features and targets (for machine learning)\n",
    "  - Adding, removing, and renaming columns\n",
    "  - Coalesce multiple columns into a single column\n",
    "  - Date conversions (from matlab, excel, unix) to Python datetime format\n",
    "  - Expand a single column that has delimited, categorical values into dummy-encoded variables\n",
    "  - Concatenating and deconcatenating columns, based on a delimiter\n",
    "  - Syntactic sugar for filtering the dataframe based on queries on a column\n",
    "  - Experimental submodules for finance, biology, chemistry, engineering, and pyspark\n",
    "\n",
    "We will use `pyjanitor` primarily to clean and tidy columns throughout this course.\n"
   ]
  },
  {
   "cell_type": "markdown",
   "metadata": {},
   "source": [
    "## Getting Started\n",
    "Now, let us examine each of the above libraries using examples. We will briefly illustrate each package for this course without delving into much detail except for the `pandas` and `matplotlib` libraries, which we will thoroughly explore in the remainder of the course."
   ]
  },
  {
   "cell_type": "markdown",
   "metadata": {},
   "source": [
    "### NumPy\n",
    "\n",
    "You can install the `NumPy` package in several ways. In this course, we will install `NumPy` with either `conda` or `pip` as follows:"
   ]
  },
  {
   "cell_type": "code",
   "execution_count": 42,
   "metadata": {},
   "outputs": [],
   "source": [
    "# Installing NumPy with conda:\n",
    "#%conda install numpy"
   ]
  },
  {
   "cell_type": "code",
   "execution_count": 41,
   "metadata": {},
   "outputs": [
    {
     "name": "stdout",
     "output_type": "stream",
     "text": [
      "Requirement already satisfied: numpy in /Applications/miniconda3/lib/python3.11/site-packages (1.26.4)\n",
      "Note: you may need to restart the kernel to use updated packages.\n"
     ]
    }
   ],
   "source": [
    "# Installing NumPy with pip:\n",
    "# %pip install numpy"
   ]
  },
  {
   "cell_type": "markdown",
   "metadata": {},
   "source": [
    "### Examples\n",
    "The following examples illustrate how to use `NumPy`."
   ]
  },
  {
   "cell_type": "code",
   "execution_count": 2,
   "metadata": {},
   "outputs": [
    {
     "data": {
      "text/plain": [
       "array([ 1.,  2.,  3., nan])"
      ]
     },
     "execution_count": 2,
     "metadata": {},
     "output_type": "execute_result"
    }
   ],
   "source": [
    "# Creating a numpy array\n",
    "import numpy as np\n",
    "demo = np.array([1, 2, 3, np.nan]) \n",
    "demo"
   ]
  },
  {
   "cell_type": "code",
   "execution_count": 46,
   "metadata": {},
   "outputs": [
    {
     "data": {
      "text/plain": [
       "array([[ 1,  3,  4,  8],\n",
       "       [ 0, -8, 12, 10]])"
      ]
     },
     "execution_count": 46,
     "metadata": {},
     "output_type": "execute_result"
    }
   ],
   "source": [
    "# Create an array\n",
    "arr = np.array([[1, 3, 4, 8], [0, -8, 12, 10]])\n",
    "arr"
   ]
  },
  {
   "cell_type": "code",
   "execution_count": 4,
   "metadata": {},
   "outputs": [
    {
     "data": {
      "text/plain": [
       "array([[ 4,  2,  0, -6,  7],\n",
       "       [ 8, 10,  4, 15, 12],\n",
       "       [ 0,  2,  8, 13, -9]])"
      ]
     },
     "execution_count": 4,
     "metadata": {},
     "output_type": "execute_result"
    }
   ],
   "source": [
    "# Example 2 - creating a 3 x 5 matrix\n",
    "my_matrix = np.array([[4, 2, 0, -6, 7], [8, 10, 4, 15, 12], [0, 2, 8, 13, -9]])\n",
    "\n",
    "my_matrix"
   ]
  },
  {
   "cell_type": "code",
   "execution_count": 49,
   "metadata": {},
   "outputs": [
    {
     "data": {
      "text/plain": [
       "array([ 0,  2,  8, 13, -9])"
      ]
     },
     "execution_count": 49,
     "metadata": {},
     "output_type": "execute_result"
    }
   ],
   "source": [
    "# Manipulating NumPy array: pull out the second row\n",
    "my_matrix[2]"
   ]
  },
  {
   "cell_type": "code",
   "execution_count": 50,
   "metadata": {},
   "outputs": [
    {
     "data": {
      "text/plain": [
       "array([-6, 15, 13])"
      ]
     },
     "execution_count": 50,
     "metadata": {},
     "output_type": "execute_result"
    }
   ],
   "source": [
    "# Manipulating NumPy array: pull out the first column\n",
    "my_matrix[:, 3]"
   ]
  },
  {
   "cell_type": "code",
   "execution_count": 10,
   "metadata": {},
   "outputs": [
    {
     "data": {
      "text/plain": [
       "array([-6, 15, 13])"
      ]
     },
     "execution_count": 10,
     "metadata": {},
     "output_type": "execute_result"
    }
   ],
   "source": [
    "# Manipulating NumPy array: pull out the first column\n",
    "my_matrix[:, 3]"
   ]
  },
  {
   "cell_type": "markdown",
   "metadata": {},
   "source": [
    "We can also use `NumPy` to create empty arrays or arrays with all zeroes as placeholders. Arrays created with `np.empty` are faster than those created with `np.zeroes`."
   ]
  },
  {
   "cell_type": "code",
   "execution_count": 11,
   "metadata": {},
   "outputs": [
    {
     "data": {
      "text/plain": [
       "array([ 1.  ,  2.75,  6.  , 10.75, 17.  ])"
      ]
     },
     "execution_count": 11,
     "metadata": {},
     "output_type": "execute_result"
    }
   ],
   "source": [
    "# Creating an empty array\n",
    "np.empty(5)"
   ]
  },
  {
   "cell_type": "code",
   "execution_count": 12,
   "metadata": {},
   "outputs": [
    {
     "data": {
      "text/plain": [
       "array([1., 1., 1.])"
      ]
     },
     "execution_count": 12,
     "metadata": {},
     "output_type": "execute_result"
    }
   ],
   "source": [
    "# Creating an array with ones \n",
    "np.ones(3)"
   ]
  },
  {
   "cell_type": "code",
   "execution_count": 14,
   "metadata": {},
   "outputs": [
    {
     "data": {
      "text/plain": [
       "array([0., 0., 0., 0.])"
      ]
     },
     "execution_count": 14,
     "metadata": {},
     "output_type": "execute_result"
    }
   ],
   "source": [
    "# Creating an array with zeroes\n",
    "np.zeros(4)"
   ]
  },
  {
   "cell_type": "code",
   "execution_count": 53,
   "metadata": {},
   "outputs": [
    {
     "data": {
      "text/plain": [
       "array([ 0,  1,  2,  3,  4,  5,  6,  7,  8,  9, 10])"
      ]
     },
     "execution_count": 53,
     "metadata": {},
     "output_type": "execute_result"
    }
   ],
   "source": [
    "# Creating a NumPy array with a range of numbers or elements\n",
    "np.arange(11)"
   ]
  },
  {
   "cell_type": "code",
   "execution_count": 20,
   "metadata": {},
   "outputs": [
    {
     "data": {
      "text/plain": [
       "array([ 0. ,  2.5,  5. ,  7.5, 10. ])"
      ]
     },
     "execution_count": 20,
     "metadata": {},
     "output_type": "execute_result"
    }
   ],
   "source": [
    "# Creating an array with linearly spaced values in a specified internal\n",
    "np.linspace(0, 10, num=5)"
   ]
  },
  {
   "cell_type": "markdown",
   "metadata": {},
   "source": [
    "### Adding and sorting elements"
   ]
  },
  {
   "cell_type": "code",
   "execution_count": 23,
   "metadata": {},
   "outputs": [
    {
     "data": {
      "text/plain": [
       "array([1, 2, 3, 4, 5, 6, 7, 8])"
      ]
     },
     "execution_count": 23,
     "metadata": {},
     "output_type": "execute_result"
    }
   ],
   "source": [
    "my_arr = np.array([2, 1, 5, 3, 7, 4, 6, 8])\n",
    "\n",
    "# Let's sort the elements in our array\n",
    "my_arr.sort()\n",
    "\n",
    "# Print the output\n",
    "my_arr"
   ]
  },
  {
   "cell_type": "code",
   "execution_count": 55,
   "metadata": {},
   "outputs": [
    {
     "data": {
      "text/plain": [
       "array([1, 2, 3, 4, 5, 6, 7, 8])"
      ]
     },
     "execution_count": 55,
     "metadata": {},
     "output_type": "execute_result"
    }
   ],
   "source": [
    "# Adding two arrays together\n",
    "a = np.array([1, 2, 3, 4])\n",
    "b = np.array([5, 6, 7, 8])\n",
    "\n",
    "# Concatenate a with b\n",
    "np.concatenate((a, b))"
   ]
  },
  {
   "cell_type": "code",
   "execution_count": 59,
   "metadata": {},
   "outputs": [
    {
     "data": {
      "text/plain": [
       "array([0.2       , 0.33333333, 0.42857143, 0.5       ])"
      ]
     },
     "execution_count": 59,
     "metadata": {},
     "output_type": "execute_result"
    }
   ],
   "source": [
    "a / b"
   ]
  },
  {
   "cell_type": "code",
   "execution_count": 27,
   "metadata": {},
   "outputs": [
    {
     "data": {
      "text/plain": [
       "array([[ 1,  2,  0],\n",
       "       [ 3,  4,  4],\n",
       "       [ 5,  6, -3]])"
      ]
     },
     "execution_count": 27,
     "metadata": {},
     "output_type": "execute_result"
    }
   ],
   "source": [
    "# We could also do the following\n",
    "a = np.array([[1, 2, 0], [3, 4, 4]])\n",
    "b = np.array([[5, 6, -3]])\n",
    "\n",
    "np.concatenate((a,b), axis=0)"
   ]
  },
  {
   "cell_type": "markdown",
   "metadata": {},
   "source": [
    "### Checking matrix or array dimension, number of elements, and size"
   ]
  },
  {
   "cell_type": "code",
   "execution_count": 28,
   "metadata": {},
   "outputs": [
    {
     "data": {
      "text/plain": [
       "array([[[0, 1, 2, 3],\n",
       "        [4, 5, 6, 7]],\n",
       "\n",
       "       [[0, 1, 2, 3],\n",
       "        [4, 5, 6, 7]],\n",
       "\n",
       "       [[0, 1, 2, 3],\n",
       "        [4, 5, 6, 7]]])"
      ]
     },
     "execution_count": 28,
     "metadata": {},
     "output_type": "execute_result"
    }
   ],
   "source": [
    "my_matrix_2 = np.array([[[0, 1, 2, 3],\n",
    "                        [4, 5, 6, 7]],\n",
    "                        \n",
    "                        [[0, 1, 2, 3],\n",
    "                        [4, 5, 6, 7]],\n",
    "                        \n",
    "                        [[0 ,1 ,2, 3],\n",
    "                        [4, 5, 6, 7]]\n",
    "                        ]\n",
    "                       )\n",
    "# Print the output\n",
    "my_matrix_2"
   ]
  },
  {
   "cell_type": "code",
   "execution_count": 29,
   "metadata": {},
   "outputs": [
    {
     "data": {
      "text/plain": [
       "3"
      ]
     },
     "execution_count": 29,
     "metadata": {},
     "output_type": "execute_result"
    }
   ],
   "source": [
    "# Find the dimensions of this matrix\n",
    "my_matrix_2.ndim"
   ]
  },
  {
   "cell_type": "code",
   "execution_count": 30,
   "metadata": {},
   "outputs": [
    {
     "data": {
      "text/plain": [
       "24"
      ]
     },
     "execution_count": 30,
     "metadata": {},
     "output_type": "execute_result"
    }
   ],
   "source": [
    "# Compute the number of elements in this matrix\n",
    "my_matrix_2.size"
   ]
  },
  {
   "cell_type": "code",
   "execution_count": 31,
   "metadata": {},
   "outputs": [
    {
     "data": {
      "text/plain": [
       "(3, 2, 4)"
      ]
     },
     "execution_count": 31,
     "metadata": {},
     "output_type": "execute_result"
    }
   ],
   "source": [
    "# Find the shape of this matrix\n",
    "my_matrix_2.shape"
   ]
  },
  {
   "cell_type": "code",
   "execution_count": 60,
   "metadata": {},
   "outputs": [
    {
     "data": {
      "text/plain": [
       "array([ 1,  2,  3,  4,  5,  6,  7,  8,  9, 10, 11, 12])"
      ]
     },
     "execution_count": 60,
     "metadata": {},
     "output_type": "execute_result"
    }
   ],
   "source": [
    "# Reshaping NumPy array\n",
    "my_arr_2 = np.arange(1, 13)\n",
    "my_arr_2"
   ]
  },
  {
   "cell_type": "code",
   "execution_count": 61,
   "metadata": {},
   "outputs": [
    {
     "data": {
      "text/plain": [
       "array([[ 1,  2,  3,  4],\n",
       "       [ 5,  6,  7,  8],\n",
       "       [ 9, 10, 11, 12]])"
      ]
     },
     "execution_count": 61,
     "metadata": {},
     "output_type": "execute_result"
    }
   ],
   "source": [
    "# Reshape my_arr_2 - convert into a 3 x 4 matrix\n",
    "my_arr_2.reshape(3, 4)"
   ]
  },
  {
   "cell_type": "code",
   "execution_count": 62,
   "metadata": {},
   "outputs": [
    {
     "data": {
      "text/plain": [
       "78"
      ]
     },
     "execution_count": 62,
     "metadata": {},
     "output_type": "execute_result"
    }
   ],
   "source": [
    "# Performing mathematical operations on a NumPy array\n",
    "my_arr_2.sum(axis=0)"
   ]
  },
  {
   "cell_type": "code",
   "execution_count": 64,
   "metadata": {},
   "outputs": [
    {
     "data": {
      "text/plain": [
       "array([[ 4,  6,  8, 10],\n",
       "       [ 4,  6,  8, 10],\n",
       "       [ 4,  6,  8, 10]])"
      ]
     },
     "execution_count": 64,
     "metadata": {},
     "output_type": "execute_result"
    }
   ],
   "source": [
    "my_matrix_2.sum(axis=1)"
   ]
  },
  {
   "cell_type": "code",
   "execution_count": 65,
   "metadata": {},
   "outputs": [
    {
     "data": {
      "text/plain": [
       "12"
      ]
     },
     "execution_count": 65,
     "metadata": {},
     "output_type": "execute_result"
    }
   ],
   "source": [
    "my_arr_2.max()"
   ]
  },
  {
   "cell_type": "code",
   "execution_count": 66,
   "metadata": {},
   "outputs": [
    {
     "data": {
      "text/plain": [
       "1"
      ]
     },
     "execution_count": 66,
     "metadata": {},
     "output_type": "execute_result"
    }
   ],
   "source": [
    "my_arr_2.min()"
   ]
  },
  {
   "cell_type": "markdown",
   "metadata": {},
   "source": [
    "### Pandas\n",
    "In this course, we will be using `pandas 2`, which leverages `PyArrow` in the backend. `PyArrow` is designed to work with tabular and heterogeneous data. Using PyArrow as the pandas backend optimizes and speeds up `pandas`."
   ]
  },
  {
   "cell_type": "markdown",
   "metadata": {},
   "source": [
    "### Installing Pandas\n",
    "\n",
    "Pandas can be installed either with conda or pip, as shown below."
   ]
  },
  {
   "cell_type": "markdown",
   "metadata": {},
   "source": [
    "#### Anaconda"
   ]
  },
  {
   "cell_type": "code",
   "execution_count": 5,
   "metadata": {},
   "outputs": [],
   "source": [
    "# Installing pandas and pyarrow with conda\n",
    "#%conda install pandas pyarrow seaborn matplotlib "
   ]
  },
  {
   "cell_type": "code",
   "execution_count": 6,
   "metadata": {},
   "outputs": [
    {
     "data": {
      "text/plain": [
       "'2.2.1'"
      ]
     },
     "execution_count": 6,
     "metadata": {},
     "output_type": "execute_result"
    }
   ],
   "source": [
    "import pandas as pd\n",
    "pd.__version__\n"
   ]
  },
  {
   "cell_type": "markdown",
   "metadata": {},
   "source": [
    "#### Pip\n",
    "\n",
    "First, we must create a virtual environment containing our project files."
   ]
  },
  {
   "cell_type": "code",
   "execution_count": null,
   "metadata": {},
   "outputs": [],
   "source": [
    "#python3 -m venv pandas-env\n",
    "#source pandas-env/bin/activate\n",
    "# pip install pandas pyarrow"
   ]
  },
  {
   "cell_type": "markdown",
   "metadata": {},
   "source": [
    "## Data Structures\n",
    "pandas has two main data structures:\n",
    "\n",
    "- Series is a one-dimensional array representing a column in a DataFrame.\n",
    "- DataFrame: a two-dimensional array for representing a tabular, spreadsheet-like data structure (Effective Pandas 2, p.15)"
   ]
  },
  {
   "cell_type": "markdown",
   "metadata": {},
   "source": [
    "## Data Types\n",
    "\n",
    "- Data Types\n",
    "  - Integer\n",
    "  - Float\n",
    "  - String\n",
    "  - Date\n",
    "  - Categorical\n",
    "  - Boolean\n",
    "\n",
    "- Python:\n",
    "  - int\n",
    "  - float\n",
    "  - str\n",
    "  - datetime\n",
    "  - bool\n",
    "\n",
    "- Pandas 2\n",
    "  - 'inte64[pyarrow]'\n",
    "  - 'float64[pyarrow]'\n",
    "  - pd.ArrowDType(pa.String())\n",
    "  - 'timestamp[ns][pyarrow]' \n",
    "  - 'dictionary' \n",
    "  - 'bool[pyarrow]'\n",
    "\n",
    "- Pandas 1\n",
    "  - 'int64' \n",
    "  - 'float64' \n",
    "  - object, str\n",
    "  - 'datetime64[ns]'\n",
    "  - 'category'\n",
    "  - bool"
   ]
  },
  {
   "cell_type": "markdown",
   "metadata": {},
   "source": [
    "### PyArrow and the Future (Effective Pandas 2, p. 22)\n",
    "\n",
    ">To overcome the annoyances and issues of NumPy in Pandas, for Pandas 2.0, the developers added a new backend, PyArrow. You can think of PyArrow as a next-generation NumPy. It is designed to work with tabular data and heterogeneous data. It also handles missing values in integers and has better support for strings. If you turn on the PyArrow backend, Pandas will be faster and more efficient. However, there might be some rough edges where PyArrow is missing features that NumPy has. I will try and point out these differences in the book.\n",
    "\n",
    "> PyArrow also allows us to create arrays and tables similar to NumPy. However, we are going to use the library indirectly through Pandas.\n",
    "For the remainder of the chapter, I want to review the common types and show what they look like in pure Python, Pandas 1.x and Pandas 2.0. I will also show how to convert between the types."
   ]
  },
  {
   "cell_type": "markdown",
   "metadata": {},
   "source": [
    "### Importing Datasets"
   ]
  },
  {
   "cell_type": "code",
   "execution_count": 14,
   "metadata": {},
   "outputs": [],
   "source": [
    "# Import South Sudan 2008 Census Data\n",
    "import pandas as pd\n",
    "import numpy as np\n",
    "import pyarrow as pa\n",
    "from janitor import clean_names\n",
    "\n",
    "census_raw = pd.read_csv(\n",
    "    'Python for Data Science_files/data/ss_2008_census_data_raw.csv', \n",
    "    dtype_backend='pyarrow', \n",
    "    engine='pyarrow'\n",
    "    )"
   ]
  },
  {
   "cell_type": "code",
   "execution_count": 11,
   "metadata": {},
   "outputs": [
    {
     "data": {
      "text/html": [
       "<div>\n",
       "<style scoped>\n",
       "    .dataframe tbody tr th:only-of-type {\n",
       "        vertical-align: middle;\n",
       "    }\n",
       "\n",
       "    .dataframe tbody tr th {\n",
       "        vertical-align: top;\n",
       "    }\n",
       "\n",
       "    .dataframe thead th {\n",
       "        text-align: right;\n",
       "    }\n",
       "</style>\n",
       "<table border=\"1\" class=\"dataframe\">\n",
       "  <thead>\n",
       "    <tr style=\"text-align: right;\">\n",
       "      <th></th>\n",
       "      <th>Region</th>\n",
       "      <th>Region Name</th>\n",
       "      <th>Region - RegionId</th>\n",
       "      <th>Variable</th>\n",
       "      <th>Variable Name</th>\n",
       "      <th>Age</th>\n",
       "      <th>Age Name</th>\n",
       "      <th>Scale</th>\n",
       "      <th>Units</th>\n",
       "      <th>2008</th>\n",
       "    </tr>\n",
       "  </thead>\n",
       "  <tbody>\n",
       "    <tr>\n",
       "      <th>0</th>\n",
       "      <td>KN.A2</td>\n",
       "      <td>Upper Nile</td>\n",
       "      <td>SS-NU</td>\n",
       "      <td>KN.B2</td>\n",
       "      <td>Population, Total (Number)</td>\n",
       "      <td>KN.C1</td>\n",
       "      <td>Total</td>\n",
       "      <td>units</td>\n",
       "      <td>Persons</td>\n",
       "      <td>964353</td>\n",
       "    </tr>\n",
       "    <tr>\n",
       "      <th>1</th>\n",
       "      <td>KN.A2</td>\n",
       "      <td>Upper Nile</td>\n",
       "      <td>SS-NU</td>\n",
       "      <td>KN.B2</td>\n",
       "      <td>Population, Total (Number)</td>\n",
       "      <td>KN.C2</td>\n",
       "      <td>0 to 4</td>\n",
       "      <td>units</td>\n",
       "      <td>Persons</td>\n",
       "      <td>150872</td>\n",
       "    </tr>\n",
       "    <tr>\n",
       "      <th>2</th>\n",
       "      <td>KN.A2</td>\n",
       "      <td>Upper Nile</td>\n",
       "      <td>SS-NU</td>\n",
       "      <td>KN.B2</td>\n",
       "      <td>Population, Total (Number)</td>\n",
       "      <td>KN.C3</td>\n",
       "      <td>5 to 9</td>\n",
       "      <td>units</td>\n",
       "      <td>Persons</td>\n",
       "      <td>151467</td>\n",
       "    </tr>\n",
       "    <tr>\n",
       "      <th>3</th>\n",
       "      <td>KN.A2</td>\n",
       "      <td>Upper Nile</td>\n",
       "      <td>SS-NU</td>\n",
       "      <td>KN.B2</td>\n",
       "      <td>Population, Total (Number)</td>\n",
       "      <td>KN.C4</td>\n",
       "      <td>10 to 14</td>\n",
       "      <td>units</td>\n",
       "      <td>Persons</td>\n",
       "      <td>126140</td>\n",
       "    </tr>\n",
       "    <tr>\n",
       "      <th>4</th>\n",
       "      <td>KN.A2</td>\n",
       "      <td>Upper Nile</td>\n",
       "      <td>SS-NU</td>\n",
       "      <td>KN.B2</td>\n",
       "      <td>Population, Total (Number)</td>\n",
       "      <td>KN.C5</td>\n",
       "      <td>15 to 19</td>\n",
       "      <td>units</td>\n",
       "      <td>Persons</td>\n",
       "      <td>103804</td>\n",
       "    </tr>\n",
       "    <tr>\n",
       "      <th>5</th>\n",
       "      <td>KN.A2</td>\n",
       "      <td>Upper Nile</td>\n",
       "      <td>SS-NU</td>\n",
       "      <td>KN.B2</td>\n",
       "      <td>Population, Total (Number)</td>\n",
       "      <td>KN.C6</td>\n",
       "      <td>20 to 24</td>\n",
       "      <td>units</td>\n",
       "      <td>Persons</td>\n",
       "      <td>82588</td>\n",
       "    </tr>\n",
       "    <tr>\n",
       "      <th>6</th>\n",
       "      <td>KN.A2</td>\n",
       "      <td>Upper Nile</td>\n",
       "      <td>SS-NU</td>\n",
       "      <td>KN.B2</td>\n",
       "      <td>Population, Total (Number)</td>\n",
       "      <td>KN.C7</td>\n",
       "      <td>25 to 29</td>\n",
       "      <td>units</td>\n",
       "      <td>Persons</td>\n",
       "      <td>76754</td>\n",
       "    </tr>\n",
       "    <tr>\n",
       "      <th>7</th>\n",
       "      <td>KN.A2</td>\n",
       "      <td>Upper Nile</td>\n",
       "      <td>SS-NU</td>\n",
       "      <td>KN.B2</td>\n",
       "      <td>Population, Total (Number)</td>\n",
       "      <td>KN.C8</td>\n",
       "      <td>30 to 34</td>\n",
       "      <td>units</td>\n",
       "      <td>Persons</td>\n",
       "      <td>63134</td>\n",
       "    </tr>\n",
       "    <tr>\n",
       "      <th>8</th>\n",
       "      <td>KN.A2</td>\n",
       "      <td>Upper Nile</td>\n",
       "      <td>SS-NU</td>\n",
       "      <td>KN.B2</td>\n",
       "      <td>Population, Total (Number)</td>\n",
       "      <td>KN.C9</td>\n",
       "      <td>35 to 39</td>\n",
       "      <td>units</td>\n",
       "      <td>Persons</td>\n",
       "      <td>56806</td>\n",
       "    </tr>\n",
       "    <tr>\n",
       "      <th>9</th>\n",
       "      <td>KN.A2</td>\n",
       "      <td>Upper Nile</td>\n",
       "      <td>SS-NU</td>\n",
       "      <td>KN.B2</td>\n",
       "      <td>Population, Total (Number)</td>\n",
       "      <td>KN.C10</td>\n",
       "      <td>40 to 44</td>\n",
       "      <td>units</td>\n",
       "      <td>Persons</td>\n",
       "      <td>42139</td>\n",
       "    </tr>\n",
       "  </tbody>\n",
       "</table>\n",
       "</div>"
      ],
      "text/plain": [
       "  Region Region Name Region - RegionId Variable               Variable Name  \\\n",
       "0  KN.A2  Upper Nile             SS-NU    KN.B2  Population, Total (Number)   \n",
       "1  KN.A2  Upper Nile             SS-NU    KN.B2  Population, Total (Number)   \n",
       "2  KN.A2  Upper Nile             SS-NU    KN.B2  Population, Total (Number)   \n",
       "3  KN.A2  Upper Nile             SS-NU    KN.B2  Population, Total (Number)   \n",
       "4  KN.A2  Upper Nile             SS-NU    KN.B2  Population, Total (Number)   \n",
       "5  KN.A2  Upper Nile             SS-NU    KN.B2  Population, Total (Number)   \n",
       "6  KN.A2  Upper Nile             SS-NU    KN.B2  Population, Total (Number)   \n",
       "7  KN.A2  Upper Nile             SS-NU    KN.B2  Population, Total (Number)   \n",
       "8  KN.A2  Upper Nile             SS-NU    KN.B2  Population, Total (Number)   \n",
       "9  KN.A2  Upper Nile             SS-NU    KN.B2  Population, Total (Number)   \n",
       "\n",
       "      Age  Age Name  Scale    Units    2008  \n",
       "0   KN.C1     Total  units  Persons  964353  \n",
       "1   KN.C2    0 to 4  units  Persons  150872  \n",
       "2   KN.C3    5 to 9  units  Persons  151467  \n",
       "3   KN.C4  10 to 14  units  Persons  126140  \n",
       "4   KN.C5  15 to 19  units  Persons  103804  \n",
       "5   KN.C6  20 to 24  units  Persons   82588  \n",
       "6   KN.C7  25 to 29  units  Persons   76754  \n",
       "7   KN.C8  30 to 34  units  Persons   63134  \n",
       "8   KN.C9  35 to 39  units  Persons   56806  \n",
       "9  KN.C10  40 to 44  units  Persons   42139  "
      ]
     },
     "execution_count": 11,
     "metadata": {},
     "output_type": "execute_result"
    }
   ],
   "source": [
    "census_raw.head(10)"
   ]
  },
  {
   "cell_type": "code",
   "execution_count": 15,
   "metadata": {},
   "outputs": [
    {
     "data": {
      "text/html": [
       "<div>\n",
       "<style scoped>\n",
       "    .dataframe tbody tr th:only-of-type {\n",
       "        vertical-align: middle;\n",
       "    }\n",
       "\n",
       "    .dataframe tbody tr th {\n",
       "        vertical-align: top;\n",
       "    }\n",
       "\n",
       "    .dataframe thead th {\n",
       "        text-align: right;\n",
       "    }\n",
       "</style>\n",
       "<table border=\"1\" class=\"dataframe\">\n",
       "  <thead>\n",
       "    <tr style=\"text-align: right;\">\n",
       "      <th></th>\n",
       "      <th>region</th>\n",
       "      <th>region_name</th>\n",
       "      <th>region_regionid</th>\n",
       "      <th>variable</th>\n",
       "      <th>variable_name</th>\n",
       "      <th>age</th>\n",
       "      <th>age_name</th>\n",
       "      <th>scale</th>\n",
       "      <th>units</th>\n",
       "      <th>2008</th>\n",
       "    </tr>\n",
       "  </thead>\n",
       "  <tbody>\n",
       "    <tr>\n",
       "      <th>0</th>\n",
       "      <td>KN.A2</td>\n",
       "      <td>Upper Nile</td>\n",
       "      <td>SS-NU</td>\n",
       "      <td>KN.B2</td>\n",
       "      <td>Population, Total (Number)</td>\n",
       "      <td>KN.C1</td>\n",
       "      <td>Total</td>\n",
       "      <td>units</td>\n",
       "      <td>Persons</td>\n",
       "      <td>964353</td>\n",
       "    </tr>\n",
       "    <tr>\n",
       "      <th>1</th>\n",
       "      <td>KN.A2</td>\n",
       "      <td>Upper Nile</td>\n",
       "      <td>SS-NU</td>\n",
       "      <td>KN.B2</td>\n",
       "      <td>Population, Total (Number)</td>\n",
       "      <td>KN.C2</td>\n",
       "      <td>0 to 4</td>\n",
       "      <td>units</td>\n",
       "      <td>Persons</td>\n",
       "      <td>150872</td>\n",
       "    </tr>\n",
       "    <tr>\n",
       "      <th>2</th>\n",
       "      <td>KN.A2</td>\n",
       "      <td>Upper Nile</td>\n",
       "      <td>SS-NU</td>\n",
       "      <td>KN.B2</td>\n",
       "      <td>Population, Total (Number)</td>\n",
       "      <td>KN.C3</td>\n",
       "      <td>5 to 9</td>\n",
       "      <td>units</td>\n",
       "      <td>Persons</td>\n",
       "      <td>151467</td>\n",
       "    </tr>\n",
       "    <tr>\n",
       "      <th>3</th>\n",
       "      <td>KN.A2</td>\n",
       "      <td>Upper Nile</td>\n",
       "      <td>SS-NU</td>\n",
       "      <td>KN.B2</td>\n",
       "      <td>Population, Total (Number)</td>\n",
       "      <td>KN.C4</td>\n",
       "      <td>10 to 14</td>\n",
       "      <td>units</td>\n",
       "      <td>Persons</td>\n",
       "      <td>126140</td>\n",
       "    </tr>\n",
       "    <tr>\n",
       "      <th>4</th>\n",
       "      <td>KN.A2</td>\n",
       "      <td>Upper Nile</td>\n",
       "      <td>SS-NU</td>\n",
       "      <td>KN.B2</td>\n",
       "      <td>Population, Total (Number)</td>\n",
       "      <td>KN.C5</td>\n",
       "      <td>15 to 19</td>\n",
       "      <td>units</td>\n",
       "      <td>Persons</td>\n",
       "      <td>103804</td>\n",
       "    </tr>\n",
       "    <tr>\n",
       "      <th>...</th>\n",
       "      <td>...</td>\n",
       "      <td>...</td>\n",
       "      <td>...</td>\n",
       "      <td>...</td>\n",
       "      <td>...</td>\n",
       "      <td>...</td>\n",
       "      <td>...</td>\n",
       "      <td>...</td>\n",
       "      <td>...</td>\n",
       "      <td>...</td>\n",
       "    </tr>\n",
       "    <tr>\n",
       "      <th>448</th>\n",
       "      <td>KN.A11</td>\n",
       "      <td>Eastern Equatoria</td>\n",
       "      <td>SS-EE</td>\n",
       "      <td>KN.B8</td>\n",
       "      <td>Population, Female (Number)</td>\n",
       "      <td>KN.C14</td>\n",
       "      <td>60 to 64</td>\n",
       "      <td>units</td>\n",
       "      <td>Persons</td>\n",
       "      <td>5274</td>\n",
       "    </tr>\n",
       "    <tr>\n",
       "      <th>449</th>\n",
       "      <td>KN.A11</td>\n",
       "      <td>Eastern Equatoria</td>\n",
       "      <td>SS-EE</td>\n",
       "      <td>KN.B8</td>\n",
       "      <td>Population, Female (Number)</td>\n",
       "      <td>KN.C22</td>\n",
       "      <td>65+</td>\n",
       "      <td>units</td>\n",
       "      <td>Persons</td>\n",
       "      <td>8637</td>\n",
       "    </tr>\n",
       "    <tr>\n",
       "      <th>450</th>\n",
       "      <td>&lt;NA&gt;</td>\n",
       "      <td>&lt;NA&gt;</td>\n",
       "      <td>&lt;NA&gt;</td>\n",
       "      <td>&lt;NA&gt;</td>\n",
       "      <td>&lt;NA&gt;</td>\n",
       "      <td>&lt;NA&gt;</td>\n",
       "      <td>&lt;NA&gt;</td>\n",
       "      <td>&lt;NA&gt;</td>\n",
       "      <td>&lt;NA&gt;</td>\n",
       "      <td>&lt;NA&gt;</td>\n",
       "    </tr>\n",
       "    <tr>\n",
       "      <th>451</th>\n",
       "      <td>Source:</td>\n",
       "      <td>National Bureau of Statistics, South Sudan</td>\n",
       "      <td>&lt;NA&gt;</td>\n",
       "      <td>&lt;NA&gt;</td>\n",
       "      <td>&lt;NA&gt;</td>\n",
       "      <td>&lt;NA&gt;</td>\n",
       "      <td>&lt;NA&gt;</td>\n",
       "      <td>&lt;NA&gt;</td>\n",
       "      <td>&lt;NA&gt;</td>\n",
       "      <td>&lt;NA&gt;</td>\n",
       "    </tr>\n",
       "    <tr>\n",
       "      <th>452</th>\n",
       "      <td>Download URL:</td>\n",
       "      <td>http://southsudan.opendataforafrica.org/fvjqdp...</td>\n",
       "      <td>&lt;NA&gt;</td>\n",
       "      <td>&lt;NA&gt;</td>\n",
       "      <td>&lt;NA&gt;</td>\n",
       "      <td>&lt;NA&gt;</td>\n",
       "      <td>&lt;NA&gt;</td>\n",
       "      <td>&lt;NA&gt;</td>\n",
       "      <td>&lt;NA&gt;</td>\n",
       "      <td>&lt;NA&gt;</td>\n",
       "    </tr>\n",
       "  </tbody>\n",
       "</table>\n",
       "<p>453 rows × 10 columns</p>\n",
       "</div>"
      ],
      "text/plain": [
       "            region                                        region_name  \\\n",
       "0            KN.A2                                         Upper Nile   \n",
       "1            KN.A2                                         Upper Nile   \n",
       "2            KN.A2                                         Upper Nile   \n",
       "3            KN.A2                                         Upper Nile   \n",
       "4            KN.A2                                         Upper Nile   \n",
       "..             ...                                                ...   \n",
       "448         KN.A11                                  Eastern Equatoria   \n",
       "449         KN.A11                                  Eastern Equatoria   \n",
       "450           <NA>                                               <NA>   \n",
       "451        Source:         National Bureau of Statistics, South Sudan   \n",
       "452  Download URL:  http://southsudan.opendataforafrica.org/fvjqdp...   \n",
       "\n",
       "    region_regionid variable                variable_name     age  age_name  \\\n",
       "0             SS-NU    KN.B2   Population, Total (Number)   KN.C1     Total   \n",
       "1             SS-NU    KN.B2   Population, Total (Number)   KN.C2    0 to 4   \n",
       "2             SS-NU    KN.B2   Population, Total (Number)   KN.C3    5 to 9   \n",
       "3             SS-NU    KN.B2   Population, Total (Number)   KN.C4  10 to 14   \n",
       "4             SS-NU    KN.B2   Population, Total (Number)   KN.C5  15 to 19   \n",
       "..              ...      ...                          ...     ...       ...   \n",
       "448           SS-EE    KN.B8  Population, Female (Number)  KN.C14  60 to 64   \n",
       "449           SS-EE    KN.B8  Population, Female (Number)  KN.C22       65+   \n",
       "450            <NA>     <NA>                         <NA>    <NA>      <NA>   \n",
       "451            <NA>     <NA>                         <NA>    <NA>      <NA>   \n",
       "452            <NA>     <NA>                         <NA>    <NA>      <NA>   \n",
       "\n",
       "     scale    units    2008  \n",
       "0    units  Persons  964353  \n",
       "1    units  Persons  150872  \n",
       "2    units  Persons  151467  \n",
       "3    units  Persons  126140  \n",
       "4    units  Persons  103804  \n",
       "..     ...      ...     ...  \n",
       "448  units  Persons    5274  \n",
       "449  units  Persons    8637  \n",
       "450   <NA>     <NA>    <NA>  \n",
       "451   <NA>     <NA>    <NA>  \n",
       "452   <NA>     <NA>    <NA>  \n",
       "\n",
       "[453 rows x 10 columns]"
      ]
     },
     "execution_count": 15,
     "metadata": {},
     "output_type": "execute_result"
    }
   ],
   "source": [
    "(census_raw\n",
    " .clean_names()\n",
    " )"
   ]
  },
  {
   "cell_type": "code",
   "execution_count": 16,
   "metadata": {},
   "outputs": [],
   "source": [
    "census_df = census_raw.clean_names()"
   ]
  },
  {
   "cell_type": "code",
   "execution_count": null,
   "metadata": {},
   "outputs": [],
   "source": [
    "census_df = census_df[]"
   ]
  }
 ],
 "metadata": {
  "kernelspec": {
   "display_name": "Python 3",
   "language": "python",
   "name": "python3"
  },
  "language_info": {
   "codemirror_mode": {
    "name": "ipython",
    "version": 3
   },
   "file_extension": ".py",
   "mimetype": "text/x-python",
   "name": "python",
   "nbconvert_exporter": "python",
   "pygments_lexer": "ipython3",
   "version": "3.12.2"
  }
 },
 "nbformat": 4,
 "nbformat_minor": 2
}
