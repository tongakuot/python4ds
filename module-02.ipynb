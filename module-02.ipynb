{
 "cells": [
  {
   "cell_type": "markdown",
   "metadata": {},
   "source": [
    "# Module 2: Essential Python Libraries\n",
    "\n",
    "In this module, we will learn about some of the essential `Python` libraries for data science, such as *`numPy`, `pandas`,`matplotlib`, and `pyjanitor`*.\n",
    "\n",
    "- **NumPy**\n",
    "  `Numpy`, which stands for *Numerical Python*, is \"the fundamental package for scientific computing in Python.\" In this module, we will briefly discuss `NumPy`. For example, we will demonstrate how to:\n",
    "    - Create NumPy arrays and perform basic operations.\n",
    "    - Apply mathematical functions to arrays.\n",
    "  \n",
    "- **Pandas**\n",
    "  `pandas` is the main library for data cleaning and transformation (wrangling) in `Python`. We will use `pandas 2` in this course. Essential functions of the `pandas` library include:\n",
    "    - Loading datasets.\n",
    "    - Exploring and manipulating data.\n",
    "\n",
    "- **Matplotlib**\n",
    "    > Matplotlib is a comprehensive library for creating static, animated, and interactive visualizations in Python. Matplotlib makes easy things easy and hard things possible.\n",
    "    > - Create publication quality plots.\n",
    "    > - Make interactive figures that can zoom, pan, and update.\n",
    "    >  - Customize visual style and layout.\n",
    "    > - Export to many file formats.\n",
    "    > - Embed in JupyterLab and Graphical User Interfaces.\n",
    "   > - Use a rich array of third-party packages built on Matplotlib.\n",
    "\n",
    "- **Pyjanitor**\n",
    "  > pyjanitor is a Python implementation of the R package janitor, and provides a clean API for cleaning data.\n",
    "\n",
    "  > Functionality\n",
    "  Current functionality includes:\n",
    "  - Cleaning columns name (multi-indexes are possible!)\n",
    "  - Removing empty rows and columns\n",
    "  - Identifying duplicate entries\n",
    "  - Encoding columns as categorical\n",
    "  - Splitting your data into features and targets (for machine learning)\n",
    "  - Adding, removing, and renaming columns\n",
    "  - Coalesce multiple columns into a single column\n",
    "  - Date conversions (from matlab, excel, unix) to Python datetime format\n",
    "  - Expand a single column that has delimited, categorical values into dummy-encoded variables\n",
    "  - Concatenating and deconcatenating columns, based on a delimiter\n",
    "  - Syntactic sugar for filtering the dataframe based on queries on a column\n",
    "  - Experimental submodules for finance, biology, chemistry, engineering, and pyspark\n",
    "\n",
    "We will use `pyjanitor` primarily to clean and tidy columns throughout this course.\n"
   ]
  },
  {
   "cell_type": "markdown",
   "metadata": {},
   "source": [
    "## Getting Started\n",
    "Now, let us examine each of the above libraries using examples. We will briefly illustrate each package for this course without delving into much detail except for the `pandas` and `matplotlib` libraries, which we will thoroughly explore in the remainder of the course."
   ]
  },
  {
   "cell_type": "markdown",
   "metadata": {},
   "source": [
    "### NumPy\n",
    "\n",
    "You can install the `NumPy` package in several ways. In this course, we will install `NumPy` with either `conda` or `pip` as follows:"
   ]
  },
  {
   "cell_type": "code",
   "execution_count": 42,
   "metadata": {},
   "outputs": [],
   "source": [
    "# Installing NumPy with conda:\n",
    "#%conda install numpy"
   ]
  },
  {
   "cell_type": "code",
   "execution_count": 41,
   "metadata": {},
   "outputs": [
    {
     "name": "stdout",
     "output_type": "stream",
     "text": [
      "Requirement already satisfied: numpy in /Applications/miniconda3/lib/python3.11/site-packages (1.26.4)\n",
      "Note: you may need to restart the kernel to use updated packages.\n"
     ]
    }
   ],
   "source": [
    "# Installing NumPy with pip:\n",
    "# %pip install numpy"
   ]
  },
  {
   "cell_type": "markdown",
   "metadata": {},
   "source": [
    "### Examples\n",
    "The following examples illustrate how to use `NumPy`."
   ]
  },
  {
   "cell_type": "code",
   "execution_count": 2,
   "metadata": {},
   "outputs": [
    {
     "data": {
      "text/plain": [
       "array([ 1.,  2.,  3., nan])"
      ]
     },
     "execution_count": 2,
     "metadata": {},
     "output_type": "execute_result"
    }
   ],
   "source": [
    "# Creating a numpy array\n",
    "import numpy as np\n",
    "demo = np.array([1, 2, 3, np.nan]) \n",
    "demo"
   ]
  },
  {
   "cell_type": "code",
   "execution_count": 46,
   "metadata": {},
   "outputs": [
    {
     "data": {
      "text/plain": [
       "array([[ 1,  3,  4,  8],\n",
       "       [ 0, -8, 12, 10]])"
      ]
     },
     "execution_count": 46,
     "metadata": {},
     "output_type": "execute_result"
    }
   ],
   "source": [
    "# Create an array\n",
    "arr = np.array([[1, 3, 4, 8], [0, -8, 12, 10]])\n",
    "arr"
   ]
  },
  {
   "cell_type": "code",
   "execution_count": 4,
   "metadata": {},
   "outputs": [
    {
     "data": {
      "text/plain": [
       "array([[ 4,  2,  0, -6,  7],\n",
       "       [ 8, 10,  4, 15, 12],\n",
       "       [ 0,  2,  8, 13, -9]])"
      ]
     },
     "execution_count": 4,
     "metadata": {},
     "output_type": "execute_result"
    }
   ],
   "source": [
    "# Example 2 - creating a 3 x 5 matrix\n",
    "my_matrix = np.array([[4, 2, 0, -6, 7], [8, 10, 4, 15, 12], [0, 2, 8, 13, -9]])\n",
    "\n",
    "my_matrix"
   ]
  },
  {
   "cell_type": "code",
   "execution_count": 49,
   "metadata": {},
   "outputs": [
    {
     "data": {
      "text/plain": [
       "array([ 0,  2,  8, 13, -9])"
      ]
     },
     "execution_count": 49,
     "metadata": {},
     "output_type": "execute_result"
    }
   ],
   "source": [
    "# Manipulating NumPy array: pull out the second row\n",
    "my_matrix[2]"
   ]
  },
  {
   "cell_type": "code",
   "execution_count": 50,
   "metadata": {},
   "outputs": [
    {
     "data": {
      "text/plain": [
       "array([-6, 15, 13])"
      ]
     },
     "execution_count": 50,
     "metadata": {},
     "output_type": "execute_result"
    }
   ],
   "source": [
    "# Manipulating NumPy array: pull out the first column\n",
    "my_matrix[:, 3]"
   ]
  },
  {
   "cell_type": "code",
   "execution_count": 10,
   "metadata": {},
   "outputs": [
    {
     "data": {
      "text/plain": [
       "array([-6, 15, 13])"
      ]
     },
     "execution_count": 10,
     "metadata": {},
     "output_type": "execute_result"
    }
   ],
   "source": [
    "# Manipulating NumPy array: pull out the first column\n",
    "my_matrix[:, 3]"
   ]
  },
  {
   "cell_type": "markdown",
   "metadata": {},
   "source": [
    "We can also use `NumPy` to create empty arrays or arrays with all zeroes as placeholders. Arrays created with `np.empty` are faster than those created with `np.zeroes`."
   ]
  },
  {
   "cell_type": "code",
   "execution_count": 11,
   "metadata": {},
   "outputs": [
    {
     "data": {
      "text/plain": [
       "array([ 1.  ,  2.75,  6.  , 10.75, 17.  ])"
      ]
     },
     "execution_count": 11,
     "metadata": {},
     "output_type": "execute_result"
    }
   ],
   "source": [
    "# Creating an empty array\n",
    "np.empty(5)"
   ]
  },
  {
   "cell_type": "code",
   "execution_count": 12,
   "metadata": {},
   "outputs": [
    {
     "data": {
      "text/plain": [
       "array([1., 1., 1.])"
      ]
     },
     "execution_count": 12,
     "metadata": {},
     "output_type": "execute_result"
    }
   ],
   "source": [
    "# Creating an array with ones \n",
    "np.ones(3)"
   ]
  },
  {
   "cell_type": "code",
   "execution_count": 14,
   "metadata": {},
   "outputs": [
    {
     "data": {
      "text/plain": [
       "array([0., 0., 0., 0.])"
      ]
     },
     "execution_count": 14,
     "metadata": {},
     "output_type": "execute_result"
    }
   ],
   "source": [
    "# Creating an array with zeroes\n",
    "np.zeros(4)"
   ]
  },
  {
   "cell_type": "code",
   "execution_count": 53,
   "metadata": {},
   "outputs": [
    {
     "data": {
      "text/plain": [
       "array([ 0,  1,  2,  3,  4,  5,  6,  7,  8,  9, 10])"
      ]
     },
     "execution_count": 53,
     "metadata": {},
     "output_type": "execute_result"
    }
   ],
   "source": [
    "# Creating a NumPy array with a range of numbers or elements\n",
    "np.arange(11)"
   ]
  },
  {
   "cell_type": "code",
   "execution_count": 20,
   "metadata": {},
   "outputs": [
    {
     "data": {
      "text/plain": [
       "array([ 0. ,  2.5,  5. ,  7.5, 10. ])"
      ]
     },
     "execution_count": 20,
     "metadata": {},
     "output_type": "execute_result"
    }
   ],
   "source": [
    "# Creating an array with linearly spaced values in a specified internal\n",
    "np.linspace(0, 10, num=5)"
   ]
  },
  {
   "cell_type": "markdown",
   "metadata": {},
   "source": [
    "### Adding and sorting elements"
   ]
  },
  {
   "cell_type": "code",
   "execution_count": 23,
   "metadata": {},
   "outputs": [
    {
     "data": {
      "text/plain": [
       "array([1, 2, 3, 4, 5, 6, 7, 8])"
      ]
     },
     "execution_count": 23,
     "metadata": {},
     "output_type": "execute_result"
    }
   ],
   "source": [
    "my_arr = np.array([2, 1, 5, 3, 7, 4, 6, 8])\n",
    "\n",
    "# Let's sort the elements in our array\n",
    "my_arr.sort()\n",
    "\n",
    "# Print the output\n",
    "my_arr"
   ]
  },
  {
   "cell_type": "code",
   "execution_count": 55,
   "metadata": {},
   "outputs": [
    {
     "data": {
      "text/plain": [
       "array([1, 2, 3, 4, 5, 6, 7, 8])"
      ]
     },
     "execution_count": 55,
     "metadata": {},
     "output_type": "execute_result"
    }
   ],
   "source": [
    "# Adding two arrays together\n",
    "a = np.array([1, 2, 3, 4])\n",
    "b = np.array([5, 6, 7, 8])\n",
    "\n",
    "# Concatenate a with b\n",
    "np.concatenate((a, b))"
   ]
  },
  {
   "cell_type": "code",
   "execution_count": 59,
   "metadata": {},
   "outputs": [
    {
     "data": {
      "text/plain": [
       "array([0.2       , 0.33333333, 0.42857143, 0.5       ])"
      ]
     },
     "execution_count": 59,
     "metadata": {},
     "output_type": "execute_result"
    }
   ],
   "source": [
    "a / b"
   ]
  },
  {
   "cell_type": "code",
   "execution_count": 27,
   "metadata": {},
   "outputs": [
    {
     "data": {
      "text/plain": [
       "array([[ 1,  2,  0],\n",
       "       [ 3,  4,  4],\n",
       "       [ 5,  6, -3]])"
      ]
     },
     "execution_count": 27,
     "metadata": {},
     "output_type": "execute_result"
    }
   ],
   "source": [
    "# We could also do the following\n",
    "a = np.array([[1, 2, 0], [3, 4, 4]])\n",
    "b = np.array([[5, 6, -3]])\n",
    "\n",
    "np.concatenate((a,b), axis=0)"
   ]
  },
  {
   "cell_type": "markdown",
   "metadata": {},
   "source": [
    "### Checking matrix or array dimension, number of elements, and size"
   ]
  },
  {
   "cell_type": "code",
   "execution_count": 28,
   "metadata": {},
   "outputs": [
    {
     "data": {
      "text/plain": [
       "array([[[0, 1, 2, 3],\n",
       "        [4, 5, 6, 7]],\n",
       "\n",
       "       [[0, 1, 2, 3],\n",
       "        [4, 5, 6, 7]],\n",
       "\n",
       "       [[0, 1, 2, 3],\n",
       "        [4, 5, 6, 7]]])"
      ]
     },
     "execution_count": 28,
     "metadata": {},
     "output_type": "execute_result"
    }
   ],
   "source": [
    "my_matrix_2 = np.array([[[0, 1, 2, 3],\n",
    "                        [4, 5, 6, 7]],\n",
    "                        \n",
    "                        [[0, 1, 2, 3],\n",
    "                        [4, 5, 6, 7]],\n",
    "                        \n",
    "                        [[0 ,1 ,2, 3],\n",
    "                        [4, 5, 6, 7]]\n",
    "                        ]\n",
    "                       )\n",
    "# Print the output\n",
    "my_matrix_2"
   ]
  },
  {
   "cell_type": "code",
   "execution_count": 29,
   "metadata": {},
   "outputs": [
    {
     "data": {
      "text/plain": [
       "3"
      ]
     },
     "execution_count": 29,
     "metadata": {},
     "output_type": "execute_result"
    }
   ],
   "source": [
    "# Find the dimensions of this matrix\n",
    "my_matrix_2.ndim"
   ]
  },
  {
   "cell_type": "code",
   "execution_count": 30,
   "metadata": {},
   "outputs": [
    {
     "data": {
      "text/plain": [
       "24"
      ]
     },
     "execution_count": 30,
     "metadata": {},
     "output_type": "execute_result"
    }
   ],
   "source": [
    "# Compute the number of elements in this matrix\n",
    "my_matrix_2.size"
   ]
  },
  {
   "cell_type": "code",
   "execution_count": 31,
   "metadata": {},
   "outputs": [
    {
     "data": {
      "text/plain": [
       "(3, 2, 4)"
      ]
     },
     "execution_count": 31,
     "metadata": {},
     "output_type": "execute_result"
    }
   ],
   "source": [
    "# Find the shape of this matrix\n",
    "my_matrix_2.shape"
   ]
  },
  {
   "cell_type": "code",
   "execution_count": 60,
   "metadata": {},
   "outputs": [
    {
     "data": {
      "text/plain": [
       "array([ 1,  2,  3,  4,  5,  6,  7,  8,  9, 10, 11, 12])"
      ]
     },
     "execution_count": 60,
     "metadata": {},
     "output_type": "execute_result"
    }
   ],
   "source": [
    "# Reshaping NumPy array\n",
    "my_arr_2 = np.arange(1, 13)\n",
    "my_arr_2"
   ]
  },
  {
   "cell_type": "code",
   "execution_count": 61,
   "metadata": {},
   "outputs": [
    {
     "data": {
      "text/plain": [
       "array([[ 1,  2,  3,  4],\n",
       "       [ 5,  6,  7,  8],\n",
       "       [ 9, 10, 11, 12]])"
      ]
     },
     "execution_count": 61,
     "metadata": {},
     "output_type": "execute_result"
    }
   ],
   "source": [
    "# Reshape my_arr_2 - convert into a 3 x 4 matrix\n",
    "my_arr_2.reshape(3, 4)"
   ]
  },
  {
   "cell_type": "code",
   "execution_count": 62,
   "metadata": {},
   "outputs": [
    {
     "data": {
      "text/plain": [
       "78"
      ]
     },
     "execution_count": 62,
     "metadata": {},
     "output_type": "execute_result"
    }
   ],
   "source": [
    "# Performing mathematical operations on a NumPy array\n",
    "my_arr_2.sum(axis=0)"
   ]
  },
  {
   "cell_type": "code",
   "execution_count": 64,
   "metadata": {},
   "outputs": [
    {
     "data": {
      "text/plain": [
       "array([[ 4,  6,  8, 10],\n",
       "       [ 4,  6,  8, 10],\n",
       "       [ 4,  6,  8, 10]])"
      ]
     },
     "execution_count": 64,
     "metadata": {},
     "output_type": "execute_result"
    }
   ],
   "source": [
    "my_matrix_2.sum(axis=1)"
   ]
  },
  {
   "cell_type": "code",
   "execution_count": 65,
   "metadata": {},
   "outputs": [
    {
     "data": {
      "text/plain": [
       "12"
      ]
     },
     "execution_count": 65,
     "metadata": {},
     "output_type": "execute_result"
    }
   ],
   "source": [
    "my_arr_2.max()"
   ]
  },
  {
   "cell_type": "code",
   "execution_count": 66,
   "metadata": {},
   "outputs": [
    {
     "data": {
      "text/plain": [
       "1"
      ]
     },
     "execution_count": 66,
     "metadata": {},
     "output_type": "execute_result"
    }
   ],
   "source": [
    "my_arr_2.min()"
   ]
  },
  {
   "cell_type": "markdown",
   "metadata": {},
   "source": [
    "### Pandas\n",
    "In this course, we will be using `pandas 2`, which leverages `PyArrow` in the backend. `PyArrow` is designed to work with tabular and heterogeneous data. Using PyArrow as the pandas backend optimizes and speeds up `pandas`."
   ]
  },
  {
   "cell_type": "markdown",
   "metadata": {},
   "source": [
    "### Installing Pandas\n",
    "\n",
    "Pandas can be installed either with conda or pip, as shown below."
   ]
  },
  {
   "cell_type": "markdown",
   "metadata": {},
   "source": [
    "#### Anaconda"
   ]
  },
  {
   "cell_type": "code",
   "execution_count": 5,
   "metadata": {},
   "outputs": [],
   "source": [
    "# Installing pandas and pyarrow with conda\n",
    "#%conda install pandas pyarrow seaborn matplotlib "
   ]
  },
  {
   "cell_type": "code",
   "execution_count": 1,
   "metadata": {},
   "outputs": [
    {
     "data": {
      "text/plain": [
       "'2.2.1'"
      ]
     },
     "execution_count": 1,
     "metadata": {},
     "output_type": "execute_result"
    }
   ],
   "source": [
    "import pandas as pd\n",
    "pd.__version__\n"
   ]
  },
  {
   "cell_type": "markdown",
   "metadata": {},
   "source": [
    "#### Pip\n",
    "\n",
    "First, we must create a virtual environment containing our project files."
   ]
  },
  {
   "cell_type": "code",
   "execution_count": null,
   "metadata": {},
   "outputs": [],
   "source": [
    "#python3 -m venv pandas-env\n",
    "#source pandas-env/bin/activate\n",
    "# pip install pandas pyarrow"
   ]
  },
  {
   "cell_type": "markdown",
   "metadata": {},
   "source": [
    "## Data Structures\n",
    "pandas has two main data structures:\n",
    "\n",
    "- Series is a one-dimensional array representing a column in a DataFrame.\n",
    "- DataFrame: a two-dimensional array for representing a tabular, spreadsheet-like data structure (Effective Pandas 2, p.15)"
   ]
  },
  {
   "cell_type": "markdown",
   "metadata": {},
   "source": [
    "## Data Types\n",
    "\n",
    "- Data Types\n",
    "  - Integer\n",
    "  - Float\n",
    "  - String\n",
    "  - Date\n",
    "  - Categorical\n",
    "  - Boolean\n",
    "\n",
    "- Python:\n",
    "  - int\n",
    "  - float\n",
    "  - str\n",
    "  - datetime\n",
    "  - bool\n",
    "\n",
    "- Pandas 2\n",
    "  - 'inte64[pyarrow]'\n",
    "  - 'float64[pyarrow]'\n",
    "  - pd.ArrowDType(pa.String())\n",
    "  - 'timestamp[ns][pyarrow]' \n",
    "  - 'dictionary' \n",
    "  - 'bool[pyarrow]'\n",
    "\n",
    "- Pandas 1\n",
    "  - 'int64' \n",
    "  - 'float64' \n",
    "  - object, str\n",
    "  - 'datetime64[ns]'\n",
    "  - 'category'\n",
    "  - bool"
   ]
  },
  {
   "cell_type": "markdown",
   "metadata": {},
   "source": [
    "### PyArrow and the Future (Effective Pandas 2, p. 22)\n",
    "\n",
    ">To overcome the annoyances and issues of NumPy in Pandas, for Pandas 2.0, the developers added a new backend, PyArrow. You can think of PyArrow as a next-generation NumPy. It is designed to work with tabular data and heterogeneous data. It also handles missing values in integers and has better support for strings. If you turn on the PyArrow backend, Pandas will be faster and more efficient. However, there might be some rough edges where PyArrow is missing features that NumPy has. I will try and point out these differences in the book.\n",
    "\n",
    "> PyArrow also allows us to create arrays and tables similar to NumPy. However, we are going to use the library indirectly through Pandas.\n",
    "For the remainder of the chapter, I want to review the common types and show what they look like in pure Python, Pandas 1.x and Pandas 2.0. I will also show how to convert between the types."
   ]
  },
  {
   "cell_type": "markdown",
   "metadata": {},
   "source": [
    "### Importing Datasets"
   ]
  },
  {
   "cell_type": "code",
   "execution_count": 1,
   "metadata": {},
   "outputs": [],
   "source": [
    "# Import South Sudan 2008 Census Data\n",
    "import pandas as pd\n",
    "import numpy as np\n",
    "import pyarrow as pa\n",
    "from janitor import clean_names\n",
    "pd.read\n",
    "census_raw = pd.read_csv(    \n",
    "    'Python for Data Science_files/data/ss_2008_census_data_raw.csv', \n",
    "    dtype_backend='pyarrow', \n",
    "    engine='pyarrow',\n",
    "    # skipfooter=3\n",
    "    # usecols=['Region Name', 'Variable Name', 'Age Name', '2008']\n",
    "    )"
   ]
  },
  {
   "cell_type": "code",
   "execution_count": 39,
   "metadata": {},
   "outputs": [
    {
     "name": "stdout",
     "output_type": "stream",
     "text": [
      "1.06 ms ± 24.9 µs per loop (mean ± std. dev. of 7 runs, 1,000 loops each)\n"
     ]
    }
   ],
   "source": [
    "%%timeit\n",
    "census_raw = pd.read_csv(    \n",
    "    'Python for Data Science_files/data/ss_2008_census_data_raw.csv', \n",
    "    dtype_backend='pyarrow', \n",
    "    engine='pyarrow',\n",
    "    # usecols=['Region Name', 'Variable Name', 'Age Name', '2008']\n",
    "    )"
   ]
  },
  {
   "cell_type": "code",
   "execution_count": 40,
   "metadata": {},
   "outputs": [
    {
     "name": "stdout",
     "output_type": "stream",
     "text": [
      "747 µs ± 30.6 µs per loop (mean ± std. dev. of 7 runs, 1,000 loops each)\n"
     ]
    }
   ],
   "source": [
    "%%timeit\n",
    "census_raw = pd.read_csv(    \n",
    "    'Python for Data Science_files/data/ss_2008_census_data_raw.csv', \n",
    "    dtype_backend='pyarrow', \n",
    "    engine='pyarrow',\n",
    "    usecols=['Region Name', 'Variable Name', 'Age Name', '2008']\n",
    "    )"
   ]
  },
  {
   "cell_type": "code",
   "execution_count": 42,
   "metadata": {},
   "outputs": [],
   "source": [
    "# ??pd.read_csv"
   ]
  },
  {
   "cell_type": "code",
   "execution_count": 43,
   "metadata": {},
   "outputs": [
    {
     "data": {
      "text/html": [
       "<div>\n",
       "<style scoped>\n",
       "    .dataframe tbody tr th:only-of-type {\n",
       "        vertical-align: middle;\n",
       "    }\n",
       "\n",
       "    .dataframe tbody tr th {\n",
       "        vertical-align: top;\n",
       "    }\n",
       "\n",
       "    .dataframe thead th {\n",
       "        text-align: right;\n",
       "    }\n",
       "</style>\n",
       "<table border=\"1\" class=\"dataframe\">\n",
       "  <thead>\n",
       "    <tr style=\"text-align: right;\">\n",
       "      <th></th>\n",
       "      <th>Region</th>\n",
       "      <th>Region Name</th>\n",
       "      <th>Region - RegionId</th>\n",
       "      <th>Variable</th>\n",
       "      <th>Variable Name</th>\n",
       "      <th>Age</th>\n",
       "      <th>Age Name</th>\n",
       "      <th>Scale</th>\n",
       "      <th>Units</th>\n",
       "      <th>2008</th>\n",
       "    </tr>\n",
       "  </thead>\n",
       "  <tbody>\n",
       "    <tr>\n",
       "      <th>0</th>\n",
       "      <td>KN.A2</td>\n",
       "      <td>Upper Nile</td>\n",
       "      <td>SS-NU</td>\n",
       "      <td>KN.B2</td>\n",
       "      <td>Population, Total (Number)</td>\n",
       "      <td>KN.C1</td>\n",
       "      <td>Total</td>\n",
       "      <td>units</td>\n",
       "      <td>Persons</td>\n",
       "      <td>964353</td>\n",
       "    </tr>\n",
       "    <tr>\n",
       "      <th>1</th>\n",
       "      <td>KN.A2</td>\n",
       "      <td>Upper Nile</td>\n",
       "      <td>SS-NU</td>\n",
       "      <td>KN.B2</td>\n",
       "      <td>Population, Total (Number)</td>\n",
       "      <td>KN.C2</td>\n",
       "      <td>0 to 4</td>\n",
       "      <td>units</td>\n",
       "      <td>Persons</td>\n",
       "      <td>150872</td>\n",
       "    </tr>\n",
       "    <tr>\n",
       "      <th>2</th>\n",
       "      <td>KN.A2</td>\n",
       "      <td>Upper Nile</td>\n",
       "      <td>SS-NU</td>\n",
       "      <td>KN.B2</td>\n",
       "      <td>Population, Total (Number)</td>\n",
       "      <td>KN.C3</td>\n",
       "      <td>5 to 9</td>\n",
       "      <td>units</td>\n",
       "      <td>Persons</td>\n",
       "      <td>151467</td>\n",
       "    </tr>\n",
       "    <tr>\n",
       "      <th>3</th>\n",
       "      <td>KN.A2</td>\n",
       "      <td>Upper Nile</td>\n",
       "      <td>SS-NU</td>\n",
       "      <td>KN.B2</td>\n",
       "      <td>Population, Total (Number)</td>\n",
       "      <td>KN.C4</td>\n",
       "      <td>10 to 14</td>\n",
       "      <td>units</td>\n",
       "      <td>Persons</td>\n",
       "      <td>126140</td>\n",
       "    </tr>\n",
       "    <tr>\n",
       "      <th>4</th>\n",
       "      <td>KN.A2</td>\n",
       "      <td>Upper Nile</td>\n",
       "      <td>SS-NU</td>\n",
       "      <td>KN.B2</td>\n",
       "      <td>Population, Total (Number)</td>\n",
       "      <td>KN.C5</td>\n",
       "      <td>15 to 19</td>\n",
       "      <td>units</td>\n",
       "      <td>Persons</td>\n",
       "      <td>103804</td>\n",
       "    </tr>\n",
       "  </tbody>\n",
       "</table>\n",
       "</div>"
      ],
      "text/plain": [
       "  Region Region Name Region - RegionId Variable               Variable Name  \\\n",
       "0  KN.A2  Upper Nile             SS-NU    KN.B2  Population, Total (Number)   \n",
       "1  KN.A2  Upper Nile             SS-NU    KN.B2  Population, Total (Number)   \n",
       "2  KN.A2  Upper Nile             SS-NU    KN.B2  Population, Total (Number)   \n",
       "3  KN.A2  Upper Nile             SS-NU    KN.B2  Population, Total (Number)   \n",
       "4  KN.A2  Upper Nile             SS-NU    KN.B2  Population, Total (Number)   \n",
       "\n",
       "     Age  Age Name  Scale    Units    2008  \n",
       "0  KN.C1     Total  units  Persons  964353  \n",
       "1  KN.C2    0 to 4  units  Persons  150872  \n",
       "2  KN.C3    5 to 9  units  Persons  151467  \n",
       "3  KN.C4  10 to 14  units  Persons  126140  \n",
       "4  KN.C5  15 to 19  units  Persons  103804  "
      ]
     },
     "execution_count": 43,
     "metadata": {},
     "output_type": "execute_result"
    }
   ],
   "source": [
    "# Inspect the first few rows\n",
    "census_raw.head(5)"
   ]
  },
  {
   "cell_type": "code",
   "execution_count": 44,
   "metadata": {},
   "outputs": [
    {
     "data": {
      "text/html": [
       "<div>\n",
       "<style scoped>\n",
       "    .dataframe tbody tr th:only-of-type {\n",
       "        vertical-align: middle;\n",
       "    }\n",
       "\n",
       "    .dataframe tbody tr th {\n",
       "        vertical-align: top;\n",
       "    }\n",
       "\n",
       "    .dataframe thead th {\n",
       "        text-align: right;\n",
       "    }\n",
       "</style>\n",
       "<table border=\"1\" class=\"dataframe\">\n",
       "  <thead>\n",
       "    <tr style=\"text-align: right;\">\n",
       "      <th></th>\n",
       "      <th>Region</th>\n",
       "      <th>Region Name</th>\n",
       "      <th>Region - RegionId</th>\n",
       "      <th>Variable</th>\n",
       "      <th>Variable Name</th>\n",
       "      <th>Age</th>\n",
       "      <th>Age Name</th>\n",
       "      <th>Scale</th>\n",
       "      <th>Units</th>\n",
       "      <th>2008</th>\n",
       "    </tr>\n",
       "  </thead>\n",
       "  <tbody>\n",
       "    <tr>\n",
       "      <th>448</th>\n",
       "      <td>KN.A11</td>\n",
       "      <td>Eastern Equatoria</td>\n",
       "      <td>SS-EE</td>\n",
       "      <td>KN.B8</td>\n",
       "      <td>Population, Female (Number)</td>\n",
       "      <td>KN.C14</td>\n",
       "      <td>60 to 64</td>\n",
       "      <td>units</td>\n",
       "      <td>Persons</td>\n",
       "      <td>5274</td>\n",
       "    </tr>\n",
       "    <tr>\n",
       "      <th>449</th>\n",
       "      <td>KN.A11</td>\n",
       "      <td>Eastern Equatoria</td>\n",
       "      <td>SS-EE</td>\n",
       "      <td>KN.B8</td>\n",
       "      <td>Population, Female (Number)</td>\n",
       "      <td>KN.C22</td>\n",
       "      <td>65+</td>\n",
       "      <td>units</td>\n",
       "      <td>Persons</td>\n",
       "      <td>8637</td>\n",
       "    </tr>\n",
       "    <tr>\n",
       "      <th>450</th>\n",
       "      <td>&lt;NA&gt;</td>\n",
       "      <td>&lt;NA&gt;</td>\n",
       "      <td>&lt;NA&gt;</td>\n",
       "      <td>&lt;NA&gt;</td>\n",
       "      <td>&lt;NA&gt;</td>\n",
       "      <td>&lt;NA&gt;</td>\n",
       "      <td>&lt;NA&gt;</td>\n",
       "      <td>&lt;NA&gt;</td>\n",
       "      <td>&lt;NA&gt;</td>\n",
       "      <td>&lt;NA&gt;</td>\n",
       "    </tr>\n",
       "    <tr>\n",
       "      <th>451</th>\n",
       "      <td>Source:</td>\n",
       "      <td>National Bureau of Statistics, South Sudan</td>\n",
       "      <td>&lt;NA&gt;</td>\n",
       "      <td>&lt;NA&gt;</td>\n",
       "      <td>&lt;NA&gt;</td>\n",
       "      <td>&lt;NA&gt;</td>\n",
       "      <td>&lt;NA&gt;</td>\n",
       "      <td>&lt;NA&gt;</td>\n",
       "      <td>&lt;NA&gt;</td>\n",
       "      <td>&lt;NA&gt;</td>\n",
       "    </tr>\n",
       "    <tr>\n",
       "      <th>452</th>\n",
       "      <td>Download URL:</td>\n",
       "      <td>http://southsudan.opendataforafrica.org/fvjqdp...</td>\n",
       "      <td>&lt;NA&gt;</td>\n",
       "      <td>&lt;NA&gt;</td>\n",
       "      <td>&lt;NA&gt;</td>\n",
       "      <td>&lt;NA&gt;</td>\n",
       "      <td>&lt;NA&gt;</td>\n",
       "      <td>&lt;NA&gt;</td>\n",
       "      <td>&lt;NA&gt;</td>\n",
       "      <td>&lt;NA&gt;</td>\n",
       "    </tr>\n",
       "  </tbody>\n",
       "</table>\n",
       "</div>"
      ],
      "text/plain": [
       "            Region                                        Region Name  \\\n",
       "448         KN.A11                                  Eastern Equatoria   \n",
       "449         KN.A11                                  Eastern Equatoria   \n",
       "450           <NA>                                               <NA>   \n",
       "451        Source:         National Bureau of Statistics, South Sudan   \n",
       "452  Download URL:  http://southsudan.opendataforafrica.org/fvjqdp...   \n",
       "\n",
       "    Region - RegionId Variable                Variable Name     Age  Age Name  \\\n",
       "448             SS-EE    KN.B8  Population, Female (Number)  KN.C14  60 to 64   \n",
       "449             SS-EE    KN.B8  Population, Female (Number)  KN.C22       65+   \n",
       "450              <NA>     <NA>                         <NA>    <NA>      <NA>   \n",
       "451              <NA>     <NA>                         <NA>    <NA>      <NA>   \n",
       "452              <NA>     <NA>                         <NA>    <NA>      <NA>   \n",
       "\n",
       "     Scale    Units  2008  \n",
       "448  units  Persons  5274  \n",
       "449  units  Persons  8637  \n",
       "450   <NA>     <NA>  <NA>  \n",
       "451   <NA>     <NA>  <NA>  \n",
       "452   <NA>     <NA>  <NA>  "
      ]
     },
     "execution_count": 44,
     "metadata": {},
     "output_type": "execute_result"
    }
   ],
   "source": [
    "# Inspect the few last rows\n",
    "census_raw.tail(5)"
   ]
  },
  {
   "cell_type": "code",
   "execution_count": 45,
   "metadata": {},
   "outputs": [
    {
     "data": {
      "text/html": [
       "<div>\n",
       "<style scoped>\n",
       "    .dataframe tbody tr th:only-of-type {\n",
       "        vertical-align: middle;\n",
       "    }\n",
       "\n",
       "    .dataframe tbody tr th {\n",
       "        vertical-align: top;\n",
       "    }\n",
       "\n",
       "    .dataframe thead th {\n",
       "        text-align: right;\n",
       "    }\n",
       "</style>\n",
       "<table border=\"1\" class=\"dataframe\">\n",
       "  <thead>\n",
       "    <tr style=\"text-align: right;\">\n",
       "      <th></th>\n",
       "      <th>Region</th>\n",
       "      <th>Region Name</th>\n",
       "      <th>Region - RegionId</th>\n",
       "      <th>Variable</th>\n",
       "      <th>Variable Name</th>\n",
       "      <th>Age</th>\n",
       "      <th>Age Name</th>\n",
       "      <th>Scale</th>\n",
       "      <th>Units</th>\n",
       "      <th>2008</th>\n",
       "    </tr>\n",
       "  </thead>\n",
       "  <tbody>\n",
       "    <tr>\n",
       "      <th>179</th>\n",
       "      <td>KN.A5</td>\n",
       "      <td>Warrap</td>\n",
       "      <td>SS-WR</td>\n",
       "      <td>KN.B8</td>\n",
       "      <td>Population, Female (Number)</td>\n",
       "      <td>KN.C22</td>\n",
       "      <td>65+</td>\n",
       "      <td>units</td>\n",
       "      <td>Persons</td>\n",
       "      <td>10625</td>\n",
       "    </tr>\n",
       "    <tr>\n",
       "      <th>402</th>\n",
       "      <td>KN.A10</td>\n",
       "      <td>Central Equatoria</td>\n",
       "      <td>SS-EC</td>\n",
       "      <td>KN.B8</td>\n",
       "      <td>Population, Female (Number)</td>\n",
       "      <td>KN.C13</td>\n",
       "      <td>55 to 59</td>\n",
       "      <td>units</td>\n",
       "      <td>Persons</td>\n",
       "      <td>6366</td>\n",
       "    </tr>\n",
       "    <tr>\n",
       "      <th>289</th>\n",
       "      <td>KN.A8</td>\n",
       "      <td>Lakes</td>\n",
       "      <td>SS-LK</td>\n",
       "      <td>KN.B5</td>\n",
       "      <td>Population, Male (Number)</td>\n",
       "      <td>KN.C5</td>\n",
       "      <td>15 to 19</td>\n",
       "      <td>units</td>\n",
       "      <td>Persons</td>\n",
       "      <td>37766</td>\n",
       "    </tr>\n",
       "    <tr>\n",
       "      <th>96</th>\n",
       "      <td>KN.A4</td>\n",
       "      <td>Unity</td>\n",
       "      <td>SS-UY</td>\n",
       "      <td>KN.B2</td>\n",
       "      <td>Population, Total (Number)</td>\n",
       "      <td>KN.C7</td>\n",
       "      <td>25 to 29</td>\n",
       "      <td>units</td>\n",
       "      <td>Persons</td>\n",
       "      <td>45101</td>\n",
       "    </tr>\n",
       "    <tr>\n",
       "      <th>85</th>\n",
       "      <td>KN.A3</td>\n",
       "      <td>Jonglei</td>\n",
       "      <td>SS-JG</td>\n",
       "      <td>KN.B8</td>\n",
       "      <td>Population, Female (Number)</td>\n",
       "      <td>KN.C11</td>\n",
       "      <td>45 to 49</td>\n",
       "      <td>units</td>\n",
       "      <td>Persons</td>\n",
       "      <td>20227</td>\n",
       "    </tr>\n",
       "  </tbody>\n",
       "</table>\n",
       "</div>"
      ],
      "text/plain": [
       "     Region        Region Name Region - RegionId Variable  \\\n",
       "179   KN.A5             Warrap             SS-WR    KN.B8   \n",
       "402  KN.A10  Central Equatoria             SS-EC    KN.B8   \n",
       "289   KN.A8              Lakes             SS-LK    KN.B5   \n",
       "96    KN.A4              Unity             SS-UY    KN.B2   \n",
       "85    KN.A3            Jonglei             SS-JG    KN.B8   \n",
       "\n",
       "                   Variable Name     Age  Age Name  Scale    Units   2008  \n",
       "179  Population, Female (Number)  KN.C22       65+  units  Persons  10625  \n",
       "402  Population, Female (Number)  KN.C13  55 to 59  units  Persons   6366  \n",
       "289    Population, Male (Number)   KN.C5  15 to 19  units  Persons  37766  \n",
       "96    Population, Total (Number)   KN.C7  25 to 29  units  Persons  45101  \n",
       "85   Population, Female (Number)  KN.C11  45 to 49  units  Persons  20227  "
      ]
     },
     "execution_count": 45,
     "metadata": {},
     "output_type": "execute_result"
    }
   ],
   "source": [
    "# Pull random rows to inspect\n",
    "census_raw.sample(n=5, random_state=254)"
   ]
  },
  {
   "cell_type": "code",
   "execution_count": 47,
   "metadata": {},
   "outputs": [
    {
     "data": {
      "text/plain": [
       "['Region',\n",
       " 'Region Name',\n",
       " 'Region - RegionId',\n",
       " 'Variable',\n",
       " 'Variable Name',\n",
       " 'Age',\n",
       " 'Age Name',\n",
       " 'Scale',\n",
       " 'Units',\n",
       " '2008']"
      ]
     },
     "execution_count": 47,
     "metadata": {},
     "output_type": "execute_result"
    }
   ],
   "source": [
    "# Pull column names\n",
    "census_raw.columns.to_list()"
   ]
  },
  {
   "cell_type": "code",
   "execution_count": 48,
   "metadata": {},
   "outputs": [
    {
     "data": {
      "text/plain": [
       "(453, 10)"
      ]
     },
     "execution_count": 48,
     "metadata": {},
     "output_type": "execute_result"
    }
   ],
   "source": [
    "# Check the dimensions of our dataset\n",
    "census_raw.shape"
   ]
  },
  {
   "cell_type": "code",
   "execution_count": 49,
   "metadata": {},
   "outputs": [
    {
     "name": "stdout",
     "output_type": "stream",
     "text": [
      "South Sudan 2008 Census Data has 10 columns (variables/features) \n",
      "and 453 rows (observatios).\n"
     ]
    }
   ],
   "source": [
    "# Print the dimensions of our dataset\n",
    "print(f'South Sudan 2008 Census Data has {census_raw.shape[1]} columns (variables/features) \\nand {census_raw.shape[0]} rows (observatios).')"
   ]
  },
  {
   "cell_type": "code",
   "execution_count": 51,
   "metadata": {},
   "outputs": [
    {
     "data": {
      "text/plain": [
       "Region               1\n",
       "Region Name          1\n",
       "Region - RegionId    3\n",
       "Variable             3\n",
       "Variable Name        3\n",
       "Age                  3\n",
       "Age Name             3\n",
       "Scale                3\n",
       "Units                3\n",
       "2008                 3\n",
       "dtype: int64"
      ]
     },
     "execution_count": 51,
     "metadata": {},
     "output_type": "execute_result"
    }
   ],
   "source": [
    "# Check for missing values\n",
    "census_raw.isna().sum()"
   ]
  },
  {
   "cell_type": "code",
   "execution_count": 52,
   "metadata": {},
   "outputs": [
    {
     "data": {
      "text/html": [
       "<div>\n",
       "<style scoped>\n",
       "    .dataframe tbody tr th:only-of-type {\n",
       "        vertical-align: middle;\n",
       "    }\n",
       "\n",
       "    .dataframe tbody tr th {\n",
       "        vertical-align: top;\n",
       "    }\n",
       "\n",
       "    .dataframe thead th {\n",
       "        text-align: right;\n",
       "    }\n",
       "</style>\n",
       "<table border=\"1\" class=\"dataframe\">\n",
       "  <thead>\n",
       "    <tr style=\"text-align: right;\">\n",
       "      <th></th>\n",
       "      <th>region</th>\n",
       "      <th>region_name</th>\n",
       "      <th>region_regionid</th>\n",
       "      <th>variable</th>\n",
       "      <th>variable_name</th>\n",
       "      <th>age</th>\n",
       "      <th>age_name</th>\n",
       "      <th>scale</th>\n",
       "      <th>units</th>\n",
       "      <th>2008</th>\n",
       "    </tr>\n",
       "  </thead>\n",
       "  <tbody>\n",
       "    <tr>\n",
       "      <th>0</th>\n",
       "      <td>KN.A2</td>\n",
       "      <td>Upper Nile</td>\n",
       "      <td>SS-NU</td>\n",
       "      <td>KN.B2</td>\n",
       "      <td>Population, Total (Number)</td>\n",
       "      <td>KN.C1</td>\n",
       "      <td>Total</td>\n",
       "      <td>units</td>\n",
       "      <td>Persons</td>\n",
       "      <td>964353</td>\n",
       "    </tr>\n",
       "    <tr>\n",
       "      <th>1</th>\n",
       "      <td>KN.A2</td>\n",
       "      <td>Upper Nile</td>\n",
       "      <td>SS-NU</td>\n",
       "      <td>KN.B2</td>\n",
       "      <td>Population, Total (Number)</td>\n",
       "      <td>KN.C2</td>\n",
       "      <td>0 to 4</td>\n",
       "      <td>units</td>\n",
       "      <td>Persons</td>\n",
       "      <td>150872</td>\n",
       "    </tr>\n",
       "    <tr>\n",
       "      <th>2</th>\n",
       "      <td>KN.A2</td>\n",
       "      <td>Upper Nile</td>\n",
       "      <td>SS-NU</td>\n",
       "      <td>KN.B2</td>\n",
       "      <td>Population, Total (Number)</td>\n",
       "      <td>KN.C3</td>\n",
       "      <td>5 to 9</td>\n",
       "      <td>units</td>\n",
       "      <td>Persons</td>\n",
       "      <td>151467</td>\n",
       "    </tr>\n",
       "    <tr>\n",
       "      <th>3</th>\n",
       "      <td>KN.A2</td>\n",
       "      <td>Upper Nile</td>\n",
       "      <td>SS-NU</td>\n",
       "      <td>KN.B2</td>\n",
       "      <td>Population, Total (Number)</td>\n",
       "      <td>KN.C4</td>\n",
       "      <td>10 to 14</td>\n",
       "      <td>units</td>\n",
       "      <td>Persons</td>\n",
       "      <td>126140</td>\n",
       "    </tr>\n",
       "    <tr>\n",
       "      <th>4</th>\n",
       "      <td>KN.A2</td>\n",
       "      <td>Upper Nile</td>\n",
       "      <td>SS-NU</td>\n",
       "      <td>KN.B2</td>\n",
       "      <td>Population, Total (Number)</td>\n",
       "      <td>KN.C5</td>\n",
       "      <td>15 to 19</td>\n",
       "      <td>units</td>\n",
       "      <td>Persons</td>\n",
       "      <td>103804</td>\n",
       "    </tr>\n",
       "  </tbody>\n",
       "</table>\n",
       "</div>"
      ],
      "text/plain": [
       "  region region_name region_regionid variable               variable_name  \\\n",
       "0  KN.A2  Upper Nile           SS-NU    KN.B2  Population, Total (Number)   \n",
       "1  KN.A2  Upper Nile           SS-NU    KN.B2  Population, Total (Number)   \n",
       "2  KN.A2  Upper Nile           SS-NU    KN.B2  Population, Total (Number)   \n",
       "3  KN.A2  Upper Nile           SS-NU    KN.B2  Population, Total (Number)   \n",
       "4  KN.A2  Upper Nile           SS-NU    KN.B2  Population, Total (Number)   \n",
       "\n",
       "     age  age_name  scale    units    2008  \n",
       "0  KN.C1     Total  units  Persons  964353  \n",
       "1  KN.C2    0 to 4  units  Persons  150872  \n",
       "2  KN.C3    5 to 9  units  Persons  151467  \n",
       "3  KN.C4  10 to 14  units  Persons  126140  \n",
       "4  KN.C5  15 to 19  units  Persons  103804  "
      ]
     },
     "execution_count": 52,
     "metadata": {},
     "output_type": "execute_result"
    }
   ],
   "source": [
    "# Clean or tidy column names\n",
    "census_2008 = census_raw.clean_names()\n",
    "\n",
    "census_2008.head()\n"
   ]
  },
  {
   "cell_type": "code",
   "execution_count": 53,
   "metadata": {},
   "outputs": [
    {
     "data": {
      "text/plain": [
       "0                                             Upper Nile\n",
       "1                                             Upper Nile\n",
       "2                                             Upper Nile\n",
       "3                                             Upper Nile\n",
       "4                                             Upper Nile\n",
       "                             ...                        \n",
       "448                                    Eastern Equatoria\n",
       "449                                    Eastern Equatoria\n",
       "450                                                 <NA>\n",
       "451           National Bureau of Statistics, South Sudan\n",
       "452    http://southsudan.opendataforafrica.org/fvjqdp...\n",
       "Name: region_name, Length: 453, dtype: string[pyarrow]"
      ]
     },
     "execution_count": 53,
     "metadata": {},
     "output_type": "execute_result"
    }
   ],
   "source": [
    "# Pull out a column\n",
    "census_2008.region_name"
   ]
  },
  {
   "cell_type": "code",
   "execution_count": 54,
   "metadata": {},
   "outputs": [
    {
     "data": {
      "text/plain": [
       "0                                             Upper Nile\n",
       "1                                             Upper Nile\n",
       "2                                             Upper Nile\n",
       "3                                             Upper Nile\n",
       "4                                             Upper Nile\n",
       "                             ...                        \n",
       "448                                    Eastern Equatoria\n",
       "449                                    Eastern Equatoria\n",
       "450                                                 <NA>\n",
       "451           National Bureau of Statistics, South Sudan\n",
       "452    http://southsudan.opendataforafrica.org/fvjqdp...\n",
       "Name: region_name, Length: 453, dtype: string[pyarrow]"
      ]
     },
     "execution_count": 54,
     "metadata": {},
     "output_type": "execute_result"
    }
   ],
   "source": [
    "# Pull out a column using square brackets\n",
    "census_2008['region_name']"
   ]
  },
  {
   "cell_type": "code",
   "execution_count": 55,
   "metadata": {},
   "outputs": [
    {
     "data": {
      "text/plain": [
       "region_name\n",
       "Upper Nile                                                                                    45\n",
       "Jonglei                                                                                       45\n",
       "Unity                                                                                         45\n",
       "Warrap                                                                                        45\n",
       "Northern Bahr el Ghazal                                                                       45\n",
       "Western Bahr el Ghazal                                                                        45\n",
       "Lakes                                                                                         45\n",
       "Western Equatoria                                                                             45\n",
       "Central Equatoria                                                                             45\n",
       "Eastern Equatoria                                                                             45\n",
       "National Bureau of Statistics, South Sudan                                                     1\n",
       "http://southsudan.opendataforafrica.org/fvjqdpe/population-by-age-and-sex-2008-south-sudan     1\n",
       "Name: count, dtype: int64[pyarrow]"
      ]
     },
     "execution_count": 55,
     "metadata": {},
     "output_type": "execute_result"
    }
   ],
   "source": [
    "# Value counts\n",
    "census_2008['region_name'].value_counts()"
   ]
  },
  {
   "cell_type": "code",
   "execution_count": 58,
   "metadata": {},
   "outputs": [
    {
     "data": {
      "text/html": [
       "<div>\n",
       "<style scoped>\n",
       "    .dataframe tbody tr th:only-of-type {\n",
       "        vertical-align: middle;\n",
       "    }\n",
       "\n",
       "    .dataframe tbody tr th {\n",
       "        vertical-align: top;\n",
       "    }\n",
       "\n",
       "    .dataframe thead th {\n",
       "        text-align: right;\n",
       "    }\n",
       "</style>\n",
       "<table border=\"1\" class=\"dataframe\">\n",
       "  <thead>\n",
       "    <tr style=\"text-align: right;\">\n",
       "      <th></th>\n",
       "      <th>region</th>\n",
       "      <th>region_name</th>\n",
       "      <th>region_regionid</th>\n",
       "      <th>variable</th>\n",
       "      <th>variable_name</th>\n",
       "      <th>age</th>\n",
       "      <th>age_name</th>\n",
       "      <th>scale</th>\n",
       "      <th>units</th>\n",
       "      <th>2008</th>\n",
       "    </tr>\n",
       "  </thead>\n",
       "  <tbody>\n",
       "    <tr>\n",
       "      <th>0</th>\n",
       "      <td>KN.A2</td>\n",
       "      <td>Upper Nile</td>\n",
       "      <td>SS-NU</td>\n",
       "      <td>KN.B2</td>\n",
       "      <td>Population, Total (Number)</td>\n",
       "      <td>KN.C1</td>\n",
       "      <td>Total</td>\n",
       "      <td>units</td>\n",
       "      <td>Persons</td>\n",
       "      <td>964353</td>\n",
       "    </tr>\n",
       "    <tr>\n",
       "      <th>1</th>\n",
       "      <td>KN.A2</td>\n",
       "      <td>Upper Nile</td>\n",
       "      <td>SS-NU</td>\n",
       "      <td>KN.B2</td>\n",
       "      <td>Population, Total (Number)</td>\n",
       "      <td>KN.C2</td>\n",
       "      <td>0 to 4</td>\n",
       "      <td>units</td>\n",
       "      <td>Persons</td>\n",
       "      <td>150872</td>\n",
       "    </tr>\n",
       "    <tr>\n",
       "      <th>2</th>\n",
       "      <td>KN.A2</td>\n",
       "      <td>Upper Nile</td>\n",
       "      <td>SS-NU</td>\n",
       "      <td>KN.B2</td>\n",
       "      <td>Population, Total (Number)</td>\n",
       "      <td>KN.C3</td>\n",
       "      <td>5 to 9</td>\n",
       "      <td>units</td>\n",
       "      <td>Persons</td>\n",
       "      <td>151467</td>\n",
       "    </tr>\n",
       "    <tr>\n",
       "      <th>3</th>\n",
       "      <td>KN.A2</td>\n",
       "      <td>Upper Nile</td>\n",
       "      <td>SS-NU</td>\n",
       "      <td>KN.B2</td>\n",
       "      <td>Population, Total (Number)</td>\n",
       "      <td>KN.C4</td>\n",
       "      <td>10 to 14</td>\n",
       "      <td>units</td>\n",
       "      <td>Persons</td>\n",
       "      <td>126140</td>\n",
       "    </tr>\n",
       "    <tr>\n",
       "      <th>4</th>\n",
       "      <td>KN.A2</td>\n",
       "      <td>Upper Nile</td>\n",
       "      <td>SS-NU</td>\n",
       "      <td>KN.B2</td>\n",
       "      <td>Population, Total (Number)</td>\n",
       "      <td>KN.C5</td>\n",
       "      <td>15 to 19</td>\n",
       "      <td>units</td>\n",
       "      <td>Persons</td>\n",
       "      <td>103804</td>\n",
       "    </tr>\n",
       "    <tr>\n",
       "      <th>...</th>\n",
       "      <td>...</td>\n",
       "      <td>...</td>\n",
       "      <td>...</td>\n",
       "      <td>...</td>\n",
       "      <td>...</td>\n",
       "      <td>...</td>\n",
       "      <td>...</td>\n",
       "      <td>...</td>\n",
       "      <td>...</td>\n",
       "      <td>...</td>\n",
       "    </tr>\n",
       "    <tr>\n",
       "      <th>445</th>\n",
       "      <td>KN.A11</td>\n",
       "      <td>Eastern Equatoria</td>\n",
       "      <td>SS-EE</td>\n",
       "      <td>KN.B8</td>\n",
       "      <td>Population, Female (Number)</td>\n",
       "      <td>KN.C11</td>\n",
       "      <td>45 to 49</td>\n",
       "      <td>units</td>\n",
       "      <td>Persons</td>\n",
       "      <td>13727</td>\n",
       "    </tr>\n",
       "    <tr>\n",
       "      <th>446</th>\n",
       "      <td>KN.A11</td>\n",
       "      <td>Eastern Equatoria</td>\n",
       "      <td>SS-EE</td>\n",
       "      <td>KN.B8</td>\n",
       "      <td>Population, Female (Number)</td>\n",
       "      <td>KN.C12</td>\n",
       "      <td>50 to 54</td>\n",
       "      <td>units</td>\n",
       "      <td>Persons</td>\n",
       "      <td>9482</td>\n",
       "    </tr>\n",
       "    <tr>\n",
       "      <th>447</th>\n",
       "      <td>KN.A11</td>\n",
       "      <td>Eastern Equatoria</td>\n",
       "      <td>SS-EE</td>\n",
       "      <td>KN.B8</td>\n",
       "      <td>Population, Female (Number)</td>\n",
       "      <td>KN.C13</td>\n",
       "      <td>55 to 59</td>\n",
       "      <td>units</td>\n",
       "      <td>Persons</td>\n",
       "      <td>5740</td>\n",
       "    </tr>\n",
       "    <tr>\n",
       "      <th>448</th>\n",
       "      <td>KN.A11</td>\n",
       "      <td>Eastern Equatoria</td>\n",
       "      <td>SS-EE</td>\n",
       "      <td>KN.B8</td>\n",
       "      <td>Population, Female (Number)</td>\n",
       "      <td>KN.C14</td>\n",
       "      <td>60 to 64</td>\n",
       "      <td>units</td>\n",
       "      <td>Persons</td>\n",
       "      <td>5274</td>\n",
       "    </tr>\n",
       "    <tr>\n",
       "      <th>449</th>\n",
       "      <td>KN.A11</td>\n",
       "      <td>Eastern Equatoria</td>\n",
       "      <td>SS-EE</td>\n",
       "      <td>KN.B8</td>\n",
       "      <td>Population, Female (Number)</td>\n",
       "      <td>KN.C22</td>\n",
       "      <td>65+</td>\n",
       "      <td>units</td>\n",
       "      <td>Persons</td>\n",
       "      <td>8637</td>\n",
       "    </tr>\n",
       "  </tbody>\n",
       "</table>\n",
       "<p>450 rows × 10 columns</p>\n",
       "</div>"
      ],
      "text/plain": [
       "     region        region_name region_regionid variable  \\\n",
       "0     KN.A2         Upper Nile           SS-NU    KN.B2   \n",
       "1     KN.A2         Upper Nile           SS-NU    KN.B2   \n",
       "2     KN.A2         Upper Nile           SS-NU    KN.B2   \n",
       "3     KN.A2         Upper Nile           SS-NU    KN.B2   \n",
       "4     KN.A2         Upper Nile           SS-NU    KN.B2   \n",
       "..      ...                ...             ...      ...   \n",
       "445  KN.A11  Eastern Equatoria           SS-EE    KN.B8   \n",
       "446  KN.A11  Eastern Equatoria           SS-EE    KN.B8   \n",
       "447  KN.A11  Eastern Equatoria           SS-EE    KN.B8   \n",
       "448  KN.A11  Eastern Equatoria           SS-EE    KN.B8   \n",
       "449  KN.A11  Eastern Equatoria           SS-EE    KN.B8   \n",
       "\n",
       "                   variable_name     age  age_name  scale    units    2008  \n",
       "0     Population, Total (Number)   KN.C1     Total  units  Persons  964353  \n",
       "1     Population, Total (Number)   KN.C2    0 to 4  units  Persons  150872  \n",
       "2     Population, Total (Number)   KN.C3    5 to 9  units  Persons  151467  \n",
       "3     Population, Total (Number)   KN.C4  10 to 14  units  Persons  126140  \n",
       "4     Population, Total (Number)   KN.C5  15 to 19  units  Persons  103804  \n",
       "..                           ...     ...       ...    ...      ...     ...  \n",
       "445  Population, Female (Number)  KN.C11  45 to 49  units  Persons   13727  \n",
       "446  Population, Female (Number)  KN.C12  50 to 54  units  Persons    9482  \n",
       "447  Population, Female (Number)  KN.C13  55 to 59  units  Persons    5740  \n",
       "448  Population, Female (Number)  KN.C14  60 to 64  units  Persons    5274  \n",
       "449  Population, Female (Number)  KN.C22       65+  units  Persons    8637  \n",
       "\n",
       "[450 rows x 10 columns]"
      ]
     },
     "execution_count": 58,
     "metadata": {},
     "output_type": "execute_result"
    }
   ],
   "source": [
    "# Dropping rows with missing values\n",
    "census_2008.dropna(axis=0)"
   ]
  },
  {
   "cell_type": "code",
   "execution_count": 59,
   "metadata": {},
   "outputs": [
    {
     "name": "stderr",
     "output_type": "stream",
     "text": [
      "/var/folders/68/6d637crs52gd19c54lfz4djw0000gn/T/ipykernel_6067/2066928783.py:2: SettingWithCopyWarning: \n",
      "A value is trying to be set on a copy of a slice from a DataFrame\n",
      "\n",
      "See the caveats in the documentation: https://pandas.pydata.org/pandas-docs/stable/user_guide/indexing.html#returning-a-view-versus-a-copy\n",
      "  census_2008.dropna(inplace=True)\n"
     ]
    }
   ],
   "source": [
    "# Dropping NAs inplace\n",
    "census_2008.dropna(inplace=True)"
   ]
  },
  {
   "cell_type": "code",
   "execution_count": 60,
   "metadata": {},
   "outputs": [
    {
     "data": {
      "text/plain": [
       "(450, 10)"
      ]
     },
     "execution_count": 60,
     "metadata": {},
     "output_type": "execute_result"
    }
   ],
   "source": [
    "# Value counts\n",
    "census_2008 = census_2008.dropna()\n",
    "\n",
    "census_2008.shape"
   ]
  },
  {
   "cell_type": "code",
   "execution_count": 61,
   "metadata": {},
   "outputs": [
    {
     "data": {
      "text/plain": [
       "region_name\n",
       "Upper Nile                 45\n",
       "Jonglei                    45\n",
       "Unity                      45\n",
       "Warrap                     45\n",
       "Northern Bahr el Ghazal    45\n",
       "Western Bahr el Ghazal     45\n",
       "Lakes                      45\n",
       "Western Equatoria          45\n",
       "Central Equatoria          45\n",
       "Eastern Equatoria          45\n",
       "Name: count, dtype: int64[pyarrow]"
      ]
     },
     "execution_count": 61,
     "metadata": {},
     "output_type": "execute_result"
    }
   ],
   "source": [
    "# Value counts\n",
    "census_2008['region_name'].value_counts()"
   ]
  },
  {
   "cell_type": "code",
   "execution_count": 62,
   "metadata": {},
   "outputs": [
    {
     "data": {
      "text/plain": [
       "10"
      ]
     },
     "execution_count": 62,
     "metadata": {},
     "output_type": "execute_result"
    }
   ],
   "source": [
    "# Value counts\n",
    "census_2008['region_name'].nunique()"
   ]
  },
  {
   "cell_type": "code",
   "execution_count": 69,
   "metadata": {},
   "outputs": [
    {
     "data": {
      "text/plain": [
       "['Central Equatoria',\n",
       " 'Eastern Equatoria',\n",
       " 'Jonglei',\n",
       " 'Lakes',\n",
       " 'Northern Bahr el Ghazal',\n",
       " 'Unity',\n",
       " 'Upper Nile',\n",
       " 'Warrap',\n",
       " 'Western Bahr el Ghazal',\n",
       " 'Western Equatoria']"
      ]
     },
     "execution_count": 69,
     "metadata": {},
     "output_type": "execute_result"
    }
   ],
   "source": [
    "# Value counts\n",
    "sorted(list(census_2008['region_name'].unique()))"
   ]
  },
  {
   "cell_type": "code",
   "execution_count": 70,
   "metadata": {},
   "outputs": [
    {
     "data": {
      "text/plain": [
       "['region',\n",
       " 'region_name',\n",
       " 'region_regionid',\n",
       " 'variable',\n",
       " 'variable_name',\n",
       " 'age',\n",
       " 'age_name',\n",
       " 'scale',\n",
       " 'units',\n",
       " '2008']"
      ]
     },
     "execution_count": 70,
     "metadata": {},
     "output_type": "execute_result"
    }
   ],
   "source": [
    "# Select columns of interest\n",
    "# Pull column names\n",
    "census_2008.columns.to_list()"
   ]
  },
  {
   "cell_type": "code",
   "execution_count": 72,
   "metadata": {},
   "outputs": [
    {
     "data": {
      "text/html": [
       "<div>\n",
       "<style scoped>\n",
       "    .dataframe tbody tr th:only-of-type {\n",
       "        vertical-align: middle;\n",
       "    }\n",
       "\n",
       "    .dataframe tbody tr th {\n",
       "        vertical-align: top;\n",
       "    }\n",
       "\n",
       "    .dataframe thead th {\n",
       "        text-align: right;\n",
       "    }\n",
       "</style>\n",
       "<table border=\"1\" class=\"dataframe\">\n",
       "  <thead>\n",
       "    <tr style=\"text-align: right;\">\n",
       "      <th></th>\n",
       "      <th>region_name</th>\n",
       "      <th>variable_name</th>\n",
       "      <th>age_name</th>\n",
       "      <th>2008</th>\n",
       "    </tr>\n",
       "  </thead>\n",
       "  <tbody>\n",
       "    <tr>\n",
       "      <th>0</th>\n",
       "      <td>Upper Nile</td>\n",
       "      <td>Population, Total (Number)</td>\n",
       "      <td>Total</td>\n",
       "      <td>964353</td>\n",
       "    </tr>\n",
       "    <tr>\n",
       "      <th>1</th>\n",
       "      <td>Upper Nile</td>\n",
       "      <td>Population, Total (Number)</td>\n",
       "      <td>0 to 4</td>\n",
       "      <td>150872</td>\n",
       "    </tr>\n",
       "    <tr>\n",
       "      <th>2</th>\n",
       "      <td>Upper Nile</td>\n",
       "      <td>Population, Total (Number)</td>\n",
       "      <td>5 to 9</td>\n",
       "      <td>151467</td>\n",
       "    </tr>\n",
       "    <tr>\n",
       "      <th>3</th>\n",
       "      <td>Upper Nile</td>\n",
       "      <td>Population, Total (Number)</td>\n",
       "      <td>10 to 14</td>\n",
       "      <td>126140</td>\n",
       "    </tr>\n",
       "    <tr>\n",
       "      <th>4</th>\n",
       "      <td>Upper Nile</td>\n",
       "      <td>Population, Total (Number)</td>\n",
       "      <td>15 to 19</td>\n",
       "      <td>103804</td>\n",
       "    </tr>\n",
       "    <tr>\n",
       "      <th>5</th>\n",
       "      <td>Upper Nile</td>\n",
       "      <td>Population, Total (Number)</td>\n",
       "      <td>20 to 24</td>\n",
       "      <td>82588</td>\n",
       "    </tr>\n",
       "    <tr>\n",
       "      <th>6</th>\n",
       "      <td>Upper Nile</td>\n",
       "      <td>Population, Total (Number)</td>\n",
       "      <td>25 to 29</td>\n",
       "      <td>76754</td>\n",
       "    </tr>\n",
       "    <tr>\n",
       "      <th>7</th>\n",
       "      <td>Upper Nile</td>\n",
       "      <td>Population, Total (Number)</td>\n",
       "      <td>30 to 34</td>\n",
       "      <td>63134</td>\n",
       "    </tr>\n",
       "    <tr>\n",
       "      <th>8</th>\n",
       "      <td>Upper Nile</td>\n",
       "      <td>Population, Total (Number)</td>\n",
       "      <td>35 to 39</td>\n",
       "      <td>56806</td>\n",
       "    </tr>\n",
       "    <tr>\n",
       "      <th>9</th>\n",
       "      <td>Upper Nile</td>\n",
       "      <td>Population, Total (Number)</td>\n",
       "      <td>40 to 44</td>\n",
       "      <td>42139</td>\n",
       "    </tr>\n",
       "  </tbody>\n",
       "</table>\n",
       "</div>"
      ],
      "text/plain": [
       "  region_name               variable_name  age_name    2008\n",
       "0  Upper Nile  Population, Total (Number)     Total  964353\n",
       "1  Upper Nile  Population, Total (Number)    0 to 4  150872\n",
       "2  Upper Nile  Population, Total (Number)    5 to 9  151467\n",
       "3  Upper Nile  Population, Total (Number)  10 to 14  126140\n",
       "4  Upper Nile  Population, Total (Number)  15 to 19  103804\n",
       "5  Upper Nile  Population, Total (Number)  20 to 24   82588\n",
       "6  Upper Nile  Population, Total (Number)  25 to 29   76754\n",
       "7  Upper Nile  Population, Total (Number)  30 to 34   63134\n",
       "8  Upper Nile  Population, Total (Number)  35 to 39   56806\n",
       "9  Upper Nile  Population, Total (Number)  40 to 44   42139"
      ]
     },
     "execution_count": 72,
     "metadata": {},
     "output_type": "execute_result"
    }
   ],
   "source": [
    "# Select desired columns\n",
    "census_2008_2 = census_2008[['region_name', 'variable_name', 'age_name', '2008']]\n",
    "\n",
    "census_2008_2.head(10)"
   ]
  },
  {
   "cell_type": "code",
   "execution_count": 74,
   "metadata": {},
   "outputs": [
    {
     "data": {
      "text/plain": [
       "['Population, Total (Number)',\n",
       " 'Population, Male (Number)',\n",
       " 'Population, Female (Number)']"
      ]
     },
     "execution_count": 74,
     "metadata": {},
     "output_type": "execute_result"
    }
   ],
   "source": [
    "# Unique values in variable_name column\n",
    "list(census_2008_2.variable_name.unique())"
   ]
  },
  {
   "cell_type": "code",
   "execution_count": 75,
   "metadata": {},
   "outputs": [
    {
     "data": {
      "text/html": [
       "<div>\n",
       "<style scoped>\n",
       "    .dataframe tbody tr th:only-of-type {\n",
       "        vertical-align: middle;\n",
       "    }\n",
       "\n",
       "    .dataframe tbody tr th {\n",
       "        vertical-align: top;\n",
       "    }\n",
       "\n",
       "    .dataframe thead th {\n",
       "        text-align: right;\n",
       "    }\n",
       "</style>\n",
       "<table border=\"1\" class=\"dataframe\">\n",
       "  <thead>\n",
       "    <tr style=\"text-align: right;\">\n",
       "      <th></th>\n",
       "      <th>region_name</th>\n",
       "      <th>variable_name</th>\n",
       "      <th>age_name</th>\n",
       "      <th>2008</th>\n",
       "    </tr>\n",
       "  </thead>\n",
       "  <tbody>\n",
       "    <tr>\n",
       "      <th>0</th>\n",
       "      <td>Upper Nile</td>\n",
       "      <td>Population, Total (Number)</td>\n",
       "      <td>Total</td>\n",
       "      <td>964353</td>\n",
       "    </tr>\n",
       "    <tr>\n",
       "      <th>1</th>\n",
       "      <td>Upper Nile</td>\n",
       "      <td>Population, Total (Number)</td>\n",
       "      <td>0 to 4</td>\n",
       "      <td>150872</td>\n",
       "    </tr>\n",
       "    <tr>\n",
       "      <th>2</th>\n",
       "      <td>Upper Nile</td>\n",
       "      <td>Population, Total (Number)</td>\n",
       "      <td>5 to 9</td>\n",
       "      <td>151467</td>\n",
       "    </tr>\n",
       "    <tr>\n",
       "      <th>3</th>\n",
       "      <td>Upper Nile</td>\n",
       "      <td>Population, Total (Number)</td>\n",
       "      <td>10 to 14</td>\n",
       "      <td>126140</td>\n",
       "    </tr>\n",
       "    <tr>\n",
       "      <th>4</th>\n",
       "      <td>Upper Nile</td>\n",
       "      <td>Population, Total (Number)</td>\n",
       "      <td>15 to 19</td>\n",
       "      <td>103804</td>\n",
       "    </tr>\n",
       "    <tr>\n",
       "      <th>...</th>\n",
       "      <td>...</td>\n",
       "      <td>...</td>\n",
       "      <td>...</td>\n",
       "      <td>...</td>\n",
       "    </tr>\n",
       "    <tr>\n",
       "      <th>445</th>\n",
       "      <td>Eastern Equatoria</td>\n",
       "      <td>Population, Female (Number)</td>\n",
       "      <td>45 to 49</td>\n",
       "      <td>13727</td>\n",
       "    </tr>\n",
       "    <tr>\n",
       "      <th>446</th>\n",
       "      <td>Eastern Equatoria</td>\n",
       "      <td>Population, Female (Number)</td>\n",
       "      <td>50 to 54</td>\n",
       "      <td>9482</td>\n",
       "    </tr>\n",
       "    <tr>\n",
       "      <th>447</th>\n",
       "      <td>Eastern Equatoria</td>\n",
       "      <td>Population, Female (Number)</td>\n",
       "      <td>55 to 59</td>\n",
       "      <td>5740</td>\n",
       "    </tr>\n",
       "    <tr>\n",
       "      <th>448</th>\n",
       "      <td>Eastern Equatoria</td>\n",
       "      <td>Population, Female (Number)</td>\n",
       "      <td>60 to 64</td>\n",
       "      <td>5274</td>\n",
       "    </tr>\n",
       "    <tr>\n",
       "      <th>449</th>\n",
       "      <td>Eastern Equatoria</td>\n",
       "      <td>Population, Female (Number)</td>\n",
       "      <td>65+</td>\n",
       "      <td>8637</td>\n",
       "    </tr>\n",
       "  </tbody>\n",
       "</table>\n",
       "<p>450 rows × 4 columns</p>\n",
       "</div>"
      ],
      "text/plain": [
       "           region_name                variable_name  age_name    2008\n",
       "0           Upper Nile   Population, Total (Number)     Total  964353\n",
       "1           Upper Nile   Population, Total (Number)    0 to 4  150872\n",
       "2           Upper Nile   Population, Total (Number)    5 to 9  151467\n",
       "3           Upper Nile   Population, Total (Number)  10 to 14  126140\n",
       "4           Upper Nile   Population, Total (Number)  15 to 19  103804\n",
       "..                 ...                          ...       ...     ...\n",
       "445  Eastern Equatoria  Population, Female (Number)  45 to 49   13727\n",
       "446  Eastern Equatoria  Population, Female (Number)  50 to 54    9482\n",
       "447  Eastern Equatoria  Population, Female (Number)  55 to 59    5740\n",
       "448  Eastern Equatoria  Population, Female (Number)  60 to 64    5274\n",
       "449  Eastern Equatoria  Population, Female (Number)       65+    8637\n",
       "\n",
       "[450 rows x 4 columns]"
      ]
     },
     "execution_count": 75,
     "metadata": {},
     "output_type": "execute_result"
    }
   ],
   "source": [
    "# .iloc and .loc\n",
    "\n",
    "census_2008.loc[:, ['region_name', 'variable_name', 'age_name', '2008']]"
   ]
  },
  {
   "cell_type": "code",
   "execution_count": 76,
   "metadata": {},
   "outputs": [
    {
     "data": {
      "text/plain": [
       "Index(['Region', 'Region Name', 'Region - RegionId', 'Variable',\n",
       "       'Variable Name', 'Age', 'Age Name', 'Scale', 'Units', '2008'],\n",
       "      dtype='object')"
      ]
     },
     "execution_count": 76,
     "metadata": {},
     "output_type": "execute_result"
    }
   ],
   "source": [
    "census_raw.columns"
   ]
  },
  {
   "cell_type": "code",
   "execution_count": 77,
   "metadata": {},
   "outputs": [
    {
     "data": {
      "text/html": [
       "<div>\n",
       "<style scoped>\n",
       "    .dataframe tbody tr th:only-of-type {\n",
       "        vertical-align: middle;\n",
       "    }\n",
       "\n",
       "    .dataframe tbody tr th {\n",
       "        vertical-align: top;\n",
       "    }\n",
       "\n",
       "    .dataframe thead th {\n",
       "        text-align: right;\n",
       "    }\n",
       "</style>\n",
       "<table border=\"1\" class=\"dataframe\">\n",
       "  <thead>\n",
       "    <tr style=\"text-align: right;\">\n",
       "      <th></th>\n",
       "      <th>region_name</th>\n",
       "      <th>variable_name</th>\n",
       "      <th>age_name</th>\n",
       "      <th>2008</th>\n",
       "    </tr>\n",
       "  </thead>\n",
       "  <tbody>\n",
       "    <tr>\n",
       "      <th>0</th>\n",
       "      <td>Upper Nile</td>\n",
       "      <td>Population, Total (Number)</td>\n",
       "      <td>Total</td>\n",
       "      <td>964353</td>\n",
       "    </tr>\n",
       "    <tr>\n",
       "      <th>1</th>\n",
       "      <td>Upper Nile</td>\n",
       "      <td>Population, Total (Number)</td>\n",
       "      <td>0 to 4</td>\n",
       "      <td>150872</td>\n",
       "    </tr>\n",
       "    <tr>\n",
       "      <th>2</th>\n",
       "      <td>Upper Nile</td>\n",
       "      <td>Population, Total (Number)</td>\n",
       "      <td>5 to 9</td>\n",
       "      <td>151467</td>\n",
       "    </tr>\n",
       "    <tr>\n",
       "      <th>3</th>\n",
       "      <td>Upper Nile</td>\n",
       "      <td>Population, Total (Number)</td>\n",
       "      <td>10 to 14</td>\n",
       "      <td>126140</td>\n",
       "    </tr>\n",
       "    <tr>\n",
       "      <th>4</th>\n",
       "      <td>Upper Nile</td>\n",
       "      <td>Population, Total (Number)</td>\n",
       "      <td>15 to 19</td>\n",
       "      <td>103804</td>\n",
       "    </tr>\n",
       "    <tr>\n",
       "      <th>...</th>\n",
       "      <td>...</td>\n",
       "      <td>...</td>\n",
       "      <td>...</td>\n",
       "      <td>...</td>\n",
       "    </tr>\n",
       "    <tr>\n",
       "      <th>445</th>\n",
       "      <td>Eastern Equatoria</td>\n",
       "      <td>Population, Female (Number)</td>\n",
       "      <td>45 to 49</td>\n",
       "      <td>13727</td>\n",
       "    </tr>\n",
       "    <tr>\n",
       "      <th>446</th>\n",
       "      <td>Eastern Equatoria</td>\n",
       "      <td>Population, Female (Number)</td>\n",
       "      <td>50 to 54</td>\n",
       "      <td>9482</td>\n",
       "    </tr>\n",
       "    <tr>\n",
       "      <th>447</th>\n",
       "      <td>Eastern Equatoria</td>\n",
       "      <td>Population, Female (Number)</td>\n",
       "      <td>55 to 59</td>\n",
       "      <td>5740</td>\n",
       "    </tr>\n",
       "    <tr>\n",
       "      <th>448</th>\n",
       "      <td>Eastern Equatoria</td>\n",
       "      <td>Population, Female (Number)</td>\n",
       "      <td>60 to 64</td>\n",
       "      <td>5274</td>\n",
       "    </tr>\n",
       "    <tr>\n",
       "      <th>449</th>\n",
       "      <td>Eastern Equatoria</td>\n",
       "      <td>Population, Female (Number)</td>\n",
       "      <td>65+</td>\n",
       "      <td>8637</td>\n",
       "    </tr>\n",
       "  </tbody>\n",
       "</table>\n",
       "<p>450 rows × 4 columns</p>\n",
       "</div>"
      ],
      "text/plain": [
       "           region_name                variable_name  age_name    2008\n",
       "0           Upper Nile   Population, Total (Number)     Total  964353\n",
       "1           Upper Nile   Population, Total (Number)    0 to 4  150872\n",
       "2           Upper Nile   Population, Total (Number)    5 to 9  151467\n",
       "3           Upper Nile   Population, Total (Number)  10 to 14  126140\n",
       "4           Upper Nile   Population, Total (Number)  15 to 19  103804\n",
       "..                 ...                          ...       ...     ...\n",
       "445  Eastern Equatoria  Population, Female (Number)  45 to 49   13727\n",
       "446  Eastern Equatoria  Population, Female (Number)  50 to 54    9482\n",
       "447  Eastern Equatoria  Population, Female (Number)  55 to 59    5740\n",
       "448  Eastern Equatoria  Population, Female (Number)  60 to 64    5274\n",
       "449  Eastern Equatoria  Population, Female (Number)       65+    8637\n",
       "\n",
       "[450 rows x 4 columns]"
      ]
     },
     "execution_count": 77,
     "metadata": {},
     "output_type": "execute_result"
    }
   ],
   "source": [
    "census_2008.iloc[:, [1, 4, 6, 9]]"
   ]
  },
  {
   "cell_type": "code",
   "execution_count": 78,
   "metadata": {},
   "outputs": [
    {
     "data": {
      "text/html": [
       "<div>\n",
       "<style scoped>\n",
       "    .dataframe tbody tr th:only-of-type {\n",
       "        vertical-align: middle;\n",
       "    }\n",
       "\n",
       "    .dataframe tbody tr th {\n",
       "        vertical-align: top;\n",
       "    }\n",
       "\n",
       "    .dataframe thead th {\n",
       "        text-align: right;\n",
       "    }\n",
       "</style>\n",
       "<table border=\"1\" class=\"dataframe\">\n",
       "  <thead>\n",
       "    <tr style=\"text-align: right;\">\n",
       "      <th></th>\n",
       "      <th>region_name</th>\n",
       "      <th>variable_name</th>\n",
       "      <th>age_name</th>\n",
       "      <th>2008</th>\n",
       "    </tr>\n",
       "  </thead>\n",
       "  <tbody>\n",
       "    <tr>\n",
       "      <th>1</th>\n",
       "      <td>Upper Nile</td>\n",
       "      <td>Population, Total (Number)</td>\n",
       "      <td>0 to 4</td>\n",
       "      <td>150872</td>\n",
       "    </tr>\n",
       "    <tr>\n",
       "      <th>2</th>\n",
       "      <td>Upper Nile</td>\n",
       "      <td>Population, Total (Number)</td>\n",
       "      <td>5 to 9</td>\n",
       "      <td>151467</td>\n",
       "    </tr>\n",
       "    <tr>\n",
       "      <th>3</th>\n",
       "      <td>Upper Nile</td>\n",
       "      <td>Population, Total (Number)</td>\n",
       "      <td>10 to 14</td>\n",
       "      <td>126140</td>\n",
       "    </tr>\n",
       "    <tr>\n",
       "      <th>4</th>\n",
       "      <td>Upper Nile</td>\n",
       "      <td>Population, Total (Number)</td>\n",
       "      <td>15 to 19</td>\n",
       "      <td>103804</td>\n",
       "    </tr>\n",
       "    <tr>\n",
       "      <th>5</th>\n",
       "      <td>Upper Nile</td>\n",
       "      <td>Population, Total (Number)</td>\n",
       "      <td>20 to 24</td>\n",
       "      <td>82588</td>\n",
       "    </tr>\n",
       "  </tbody>\n",
       "</table>\n",
       "</div>"
      ],
      "text/plain": [
       "  region_name               variable_name  age_name    2008\n",
       "1  Upper Nile  Population, Total (Number)    0 to 4  150872\n",
       "2  Upper Nile  Population, Total (Number)    5 to 9  151467\n",
       "3  Upper Nile  Population, Total (Number)  10 to 14  126140\n",
       "4  Upper Nile  Population, Total (Number)  15 to 19  103804\n",
       "5  Upper Nile  Population, Total (Number)  20 to 24   82588"
      ]
     },
     "execution_count": 78,
     "metadata": {},
     "output_type": "execute_result"
    }
   ],
   "source": [
    "# Selecting rows and columns using .loc\n",
    "census_2008.loc[1:5, ['region_name', 'variable_name', 'age_name', '2008']]"
   ]
  },
  {
   "cell_type": "code",
   "execution_count": 92,
   "metadata": {},
   "outputs": [
    {
     "data": {
      "text/html": [
       "<div>\n",
       "<style scoped>\n",
       "    .dataframe tbody tr th:only-of-type {\n",
       "        vertical-align: middle;\n",
       "    }\n",
       "\n",
       "    .dataframe tbody tr th {\n",
       "        vertical-align: top;\n",
       "    }\n",
       "\n",
       "    .dataframe thead th {\n",
       "        text-align: right;\n",
       "    }\n",
       "</style>\n",
       "<table border=\"1\" class=\"dataframe\">\n",
       "  <thead>\n",
       "    <tr style=\"text-align: right;\">\n",
       "      <th></th>\n",
       "      <th>region</th>\n",
       "      <th>region_name</th>\n",
       "      <th>region_regionid</th>\n",
       "      <th>variable</th>\n",
       "      <th>variable_name</th>\n",
       "      <th>age</th>\n",
       "      <th>age_name</th>\n",
       "      <th>scale</th>\n",
       "      <th>units</th>\n",
       "      <th>2008</th>\n",
       "    </tr>\n",
       "  </thead>\n",
       "  <tbody>\n",
       "    <tr>\n",
       "      <th>360</th>\n",
       "      <td>KN.A10</td>\n",
       "      <td>Central Equatoria</td>\n",
       "      <td>SS-EC</td>\n",
       "      <td>KN.B2</td>\n",
       "      <td>Population, Total (Number)</td>\n",
       "      <td>KN.C1</td>\n",
       "      <td>Total</td>\n",
       "      <td>units</td>\n",
       "      <td>Persons</td>\n",
       "      <td>1103557</td>\n",
       "    </tr>\n",
       "    <tr>\n",
       "      <th>361</th>\n",
       "      <td>KN.A10</td>\n",
       "      <td>Central Equatoria</td>\n",
       "      <td>SS-EC</td>\n",
       "      <td>KN.B2</td>\n",
       "      <td>Population, Total (Number)</td>\n",
       "      <td>KN.C2</td>\n",
       "      <td>0 to 4</td>\n",
       "      <td>units</td>\n",
       "      <td>Persons</td>\n",
       "      <td>163539</td>\n",
       "    </tr>\n",
       "    <tr>\n",
       "      <th>362</th>\n",
       "      <td>KN.A10</td>\n",
       "      <td>Central Equatoria</td>\n",
       "      <td>SS-EC</td>\n",
       "      <td>KN.B2</td>\n",
       "      <td>Population, Total (Number)</td>\n",
       "      <td>KN.C3</td>\n",
       "      <td>5 to 9</td>\n",
       "      <td>units</td>\n",
       "      <td>Persons</td>\n",
       "      <td>161582</td>\n",
       "    </tr>\n",
       "    <tr>\n",
       "      <th>363</th>\n",
       "      <td>KN.A10</td>\n",
       "      <td>Central Equatoria</td>\n",
       "      <td>SS-EC</td>\n",
       "      <td>KN.B2</td>\n",
       "      <td>Population, Total (Number)</td>\n",
       "      <td>KN.C4</td>\n",
       "      <td>10 to 14</td>\n",
       "      <td>units</td>\n",
       "      <td>Persons</td>\n",
       "      <td>138342</td>\n",
       "    </tr>\n",
       "    <tr>\n",
       "      <th>364</th>\n",
       "      <td>KN.A10</td>\n",
       "      <td>Central Equatoria</td>\n",
       "      <td>SS-EC</td>\n",
       "      <td>KN.B2</td>\n",
       "      <td>Population, Total (Number)</td>\n",
       "      <td>KN.C5</td>\n",
       "      <td>15 to 19</td>\n",
       "      <td>units</td>\n",
       "      <td>Persons</td>\n",
       "      <td>128564</td>\n",
       "    </tr>\n",
       "  </tbody>\n",
       "</table>\n",
       "</div>"
      ],
      "text/plain": [
       "     region        region_name region_regionid variable  \\\n",
       "360  KN.A10  Central Equatoria           SS-EC    KN.B2   \n",
       "361  KN.A10  Central Equatoria           SS-EC    KN.B2   \n",
       "362  KN.A10  Central Equatoria           SS-EC    KN.B2   \n",
       "363  KN.A10  Central Equatoria           SS-EC    KN.B2   \n",
       "364  KN.A10  Central Equatoria           SS-EC    KN.B2   \n",
       "\n",
       "                  variable_name    age  age_name  scale    units     2008  \n",
       "360  Population, Total (Number)  KN.C1     Total  units  Persons  1103557  \n",
       "361  Population, Total (Number)  KN.C2    0 to 4  units  Persons   163539  \n",
       "362  Population, Total (Number)  KN.C3    5 to 9  units  Persons   161582  \n",
       "363  Population, Total (Number)  KN.C4  10 to 14  units  Persons   138342  \n",
       "364  Population, Total (Number)  KN.C5  15 to 19  units  Persons   128564  "
      ]
     },
     "execution_count": 92,
     "metadata": {},
     "output_type": "execute_result"
    }
   ],
   "source": [
    "# Sort the data by state column\n",
    "census_sorted = census_2008.sort_values(by='region_name', ascending=True)\n",
    "\n",
    "\n",
    "census_sorted.head(5)"
   ]
  },
  {
   "cell_type": "code",
   "execution_count": 93,
   "metadata": {},
   "outputs": [
    {
     "data": {
      "text/html": [
       "<div>\n",
       "<style scoped>\n",
       "    .dataframe tbody tr th:only-of-type {\n",
       "        vertical-align: middle;\n",
       "    }\n",
       "\n",
       "    .dataframe tbody tr th {\n",
       "        vertical-align: top;\n",
       "    }\n",
       "\n",
       "    .dataframe thead th {\n",
       "        text-align: right;\n",
       "    }\n",
       "</style>\n",
       "<table border=\"1\" class=\"dataframe\">\n",
       "  <thead>\n",
       "    <tr style=\"text-align: right;\">\n",
       "      <th></th>\n",
       "      <th>region</th>\n",
       "      <th>region_regionid</th>\n",
       "      <th>variable</th>\n",
       "      <th>variable_name</th>\n",
       "      <th>age</th>\n",
       "      <th>age_name</th>\n",
       "      <th>scale</th>\n",
       "      <th>units</th>\n",
       "      <th>2008</th>\n",
       "    </tr>\n",
       "    <tr>\n",
       "      <th>region_name</th>\n",
       "      <th></th>\n",
       "      <th></th>\n",
       "      <th></th>\n",
       "      <th></th>\n",
       "      <th></th>\n",
       "      <th></th>\n",
       "      <th></th>\n",
       "      <th></th>\n",
       "      <th></th>\n",
       "    </tr>\n",
       "  </thead>\n",
       "  <tbody>\n",
       "    <tr>\n",
       "      <th>Central Equatoria</th>\n",
       "      <td>KN.A10</td>\n",
       "      <td>SS-EC</td>\n",
       "      <td>KN.B2</td>\n",
       "      <td>Population, Total (Number)</td>\n",
       "      <td>KN.C1</td>\n",
       "      <td>Total</td>\n",
       "      <td>units</td>\n",
       "      <td>Persons</td>\n",
       "      <td>1103557</td>\n",
       "    </tr>\n",
       "    <tr>\n",
       "      <th>Central Equatoria</th>\n",
       "      <td>KN.A10</td>\n",
       "      <td>SS-EC</td>\n",
       "      <td>KN.B2</td>\n",
       "      <td>Population, Total (Number)</td>\n",
       "      <td>KN.C2</td>\n",
       "      <td>0 to 4</td>\n",
       "      <td>units</td>\n",
       "      <td>Persons</td>\n",
       "      <td>163539</td>\n",
       "    </tr>\n",
       "    <tr>\n",
       "      <th>Central Equatoria</th>\n",
       "      <td>KN.A10</td>\n",
       "      <td>SS-EC</td>\n",
       "      <td>KN.B2</td>\n",
       "      <td>Population, Total (Number)</td>\n",
       "      <td>KN.C3</td>\n",
       "      <td>5 to 9</td>\n",
       "      <td>units</td>\n",
       "      <td>Persons</td>\n",
       "      <td>161582</td>\n",
       "    </tr>\n",
       "    <tr>\n",
       "      <th>Central Equatoria</th>\n",
       "      <td>KN.A10</td>\n",
       "      <td>SS-EC</td>\n",
       "      <td>KN.B2</td>\n",
       "      <td>Population, Total (Number)</td>\n",
       "      <td>KN.C4</td>\n",
       "      <td>10 to 14</td>\n",
       "      <td>units</td>\n",
       "      <td>Persons</td>\n",
       "      <td>138342</td>\n",
       "    </tr>\n",
       "    <tr>\n",
       "      <th>Central Equatoria</th>\n",
       "      <td>KN.A10</td>\n",
       "      <td>SS-EC</td>\n",
       "      <td>KN.B2</td>\n",
       "      <td>Population, Total (Number)</td>\n",
       "      <td>KN.C5</td>\n",
       "      <td>15 to 19</td>\n",
       "      <td>units</td>\n",
       "      <td>Persons</td>\n",
       "      <td>128564</td>\n",
       "    </tr>\n",
       "    <tr>\n",
       "      <th>Central Equatoria</th>\n",
       "      <td>KN.A10</td>\n",
       "      <td>SS-EC</td>\n",
       "      <td>KN.B2</td>\n",
       "      <td>Population, Total (Number)</td>\n",
       "      <td>KN.C6</td>\n",
       "      <td>20 to 24</td>\n",
       "      <td>units</td>\n",
       "      <td>Persons</td>\n",
       "      <td>111675</td>\n",
       "    </tr>\n",
       "    <tr>\n",
       "      <th>Central Equatoria</th>\n",
       "      <td>KN.A10</td>\n",
       "      <td>SS-EC</td>\n",
       "      <td>KN.B2</td>\n",
       "      <td>Population, Total (Number)</td>\n",
       "      <td>KN.C7</td>\n",
       "      <td>25 to 29</td>\n",
       "      <td>units</td>\n",
       "      <td>Persons</td>\n",
       "      <td>106551</td>\n",
       "    </tr>\n",
       "    <tr>\n",
       "      <th>Central Equatoria</th>\n",
       "      <td>KN.A10</td>\n",
       "      <td>SS-EC</td>\n",
       "      <td>KN.B2</td>\n",
       "      <td>Population, Total (Number)</td>\n",
       "      <td>KN.C8</td>\n",
       "      <td>30 to 34</td>\n",
       "      <td>units</td>\n",
       "      <td>Persons</td>\n",
       "      <td>75048</td>\n",
       "    </tr>\n",
       "  </tbody>\n",
       "</table>\n",
       "</div>"
      ],
      "text/plain": [
       "                   region region_regionid variable  \\\n",
       "region_name                                          \n",
       "Central Equatoria  KN.A10           SS-EC    KN.B2   \n",
       "Central Equatoria  KN.A10           SS-EC    KN.B2   \n",
       "Central Equatoria  KN.A10           SS-EC    KN.B2   \n",
       "Central Equatoria  KN.A10           SS-EC    KN.B2   \n",
       "Central Equatoria  KN.A10           SS-EC    KN.B2   \n",
       "Central Equatoria  KN.A10           SS-EC    KN.B2   \n",
       "Central Equatoria  KN.A10           SS-EC    KN.B2   \n",
       "Central Equatoria  KN.A10           SS-EC    KN.B2   \n",
       "\n",
       "                                variable_name    age  age_name  scale  \\\n",
       "region_name                                                             \n",
       "Central Equatoria  Population, Total (Number)  KN.C1     Total  units   \n",
       "Central Equatoria  Population, Total (Number)  KN.C2    0 to 4  units   \n",
       "Central Equatoria  Population, Total (Number)  KN.C3    5 to 9  units   \n",
       "Central Equatoria  Population, Total (Number)  KN.C4  10 to 14  units   \n",
       "Central Equatoria  Population, Total (Number)  KN.C5  15 to 19  units   \n",
       "Central Equatoria  Population, Total (Number)  KN.C6  20 to 24  units   \n",
       "Central Equatoria  Population, Total (Number)  KN.C7  25 to 29  units   \n",
       "Central Equatoria  Population, Total (Number)  KN.C8  30 to 34  units   \n",
       "\n",
       "                     units     2008  \n",
       "region_name                          \n",
       "Central Equatoria  Persons  1103557  \n",
       "Central Equatoria  Persons   163539  \n",
       "Central Equatoria  Persons   161582  \n",
       "Central Equatoria  Persons   138342  \n",
       "Central Equatoria  Persons   128564  \n",
       "Central Equatoria  Persons   111675  \n",
       "Central Equatoria  Persons   106551  \n",
       "Central Equatoria  Persons    75048  "
      ]
     },
     "execution_count": 93,
     "metadata": {},
     "output_type": "execute_result"
    }
   ],
   "source": [
    "# Set index to region_name\n",
    "census_sorted = census_sorted.set_index('region_name')\n",
    "census_sorted.head(8)"
   ]
  },
  {
   "cell_type": "code",
   "execution_count": 95,
   "metadata": {},
   "outputs": [
    {
     "data": {
      "text/html": [
       "<div>\n",
       "<style scoped>\n",
       "    .dataframe tbody tr th:only-of-type {\n",
       "        vertical-align: middle;\n",
       "    }\n",
       "\n",
       "    .dataframe tbody tr th {\n",
       "        vertical-align: top;\n",
       "    }\n",
       "\n",
       "    .dataframe thead th {\n",
       "        text-align: right;\n",
       "    }\n",
       "</style>\n",
       "<table border=\"1\" class=\"dataframe\">\n",
       "  <thead>\n",
       "    <tr style=\"text-align: right;\">\n",
       "      <th></th>\n",
       "      <th>variable_name</th>\n",
       "      <th>age_name</th>\n",
       "      <th>2008</th>\n",
       "    </tr>\n",
       "    <tr>\n",
       "      <th>region_name</th>\n",
       "      <th></th>\n",
       "      <th></th>\n",
       "      <th></th>\n",
       "    </tr>\n",
       "  </thead>\n",
       "  <tbody>\n",
       "    <tr>\n",
       "      <th>Jonglei</th>\n",
       "      <td>Population, Total (Number)</td>\n",
       "      <td>Total</td>\n",
       "      <td>1358602</td>\n",
       "    </tr>\n",
       "    <tr>\n",
       "      <th>Jonglei</th>\n",
       "      <td>Population, Total (Number)</td>\n",
       "      <td>0 to 4</td>\n",
       "      <td>207424</td>\n",
       "    </tr>\n",
       "    <tr>\n",
       "      <th>Jonglei</th>\n",
       "      <td>Population, Total (Number)</td>\n",
       "      <td>5 to 9</td>\n",
       "      <td>215121</td>\n",
       "    </tr>\n",
       "    <tr>\n",
       "      <th>Jonglei</th>\n",
       "      <td>Population, Total (Number)</td>\n",
       "      <td>10 to 14</td>\n",
       "      <td>179544</td>\n",
       "    </tr>\n",
       "    <tr>\n",
       "      <th>Jonglei</th>\n",
       "      <td>Population, Total (Number)</td>\n",
       "      <td>15 to 19</td>\n",
       "      <td>146141</td>\n",
       "    </tr>\n",
       "    <tr>\n",
       "      <th>...</th>\n",
       "      <td>...</td>\n",
       "      <td>...</td>\n",
       "      <td>...</td>\n",
       "    </tr>\n",
       "    <tr>\n",
       "      <th>Upper Nile</th>\n",
       "      <td>Population, Female (Number)</td>\n",
       "      <td>45 to 49</td>\n",
       "      <td>13631</td>\n",
       "    </tr>\n",
       "    <tr>\n",
       "      <th>Upper Nile</th>\n",
       "      <td>Population, Female (Number)</td>\n",
       "      <td>50 to 54</td>\n",
       "      <td>10646</td>\n",
       "    </tr>\n",
       "    <tr>\n",
       "      <th>Upper Nile</th>\n",
       "      <td>Population, Female (Number)</td>\n",
       "      <td>55 to 59</td>\n",
       "      <td>5824</td>\n",
       "    </tr>\n",
       "    <tr>\n",
       "      <th>Upper Nile</th>\n",
       "      <td>Population, Female (Number)</td>\n",
       "      <td>60 to 64</td>\n",
       "      <td>5892</td>\n",
       "    </tr>\n",
       "    <tr>\n",
       "      <th>Upper Nile</th>\n",
       "      <td>Population, Female (Number)</td>\n",
       "      <td>65+</td>\n",
       "      <td>10144</td>\n",
       "    </tr>\n",
       "  </tbody>\n",
       "</table>\n",
       "<p>135 rows × 3 columns</p>\n",
       "</div>"
      ],
      "text/plain": [
       "                           variable_name  age_name     2008\n",
       "region_name                                                \n",
       "Jonglei       Population, Total (Number)     Total  1358602\n",
       "Jonglei       Population, Total (Number)    0 to 4   207424\n",
       "Jonglei       Population, Total (Number)    5 to 9   215121\n",
       "Jonglei       Population, Total (Number)  10 to 14   179544\n",
       "Jonglei       Population, Total (Number)  15 to 19   146141\n",
       "...                                  ...       ...      ...\n",
       "Upper Nile   Population, Female (Number)  45 to 49    13631\n",
       "Upper Nile   Population, Female (Number)  50 to 54    10646\n",
       "Upper Nile   Population, Female (Number)  55 to 59     5824\n",
       "Upper Nile   Population, Female (Number)  60 to 64     5892\n",
       "Upper Nile   Population, Female (Number)       65+    10144\n",
       "\n",
       "[135 rows x 3 columns]"
      ]
     },
     "execution_count": 95,
     "metadata": {},
     "output_type": "execute_result"
    }
   ],
   "source": [
    "# Select columns and rows with .loc()\n",
    "census_sorted.loc[\n",
    "    ['Jonglei', 'Unity', 'Upper Nile'], \n",
    "    ['variable_name', 'age_name', '2008']\n",
    "    ]\n"
   ]
  },
  {
   "cell_type": "code",
   "execution_count": null,
   "metadata": {},
   "outputs": [],
   "source": [
    "census_sorted.loc['Jonglei', :].head()"
   ]
  }
 ],
 "metadata": {
  "kernelspec": {
   "display_name": "Python 3",
   "language": "python",
   "name": "python3"
  },
  "language_info": {
   "codemirror_mode": {
    "name": "ipython",
    "version": 3
   },
   "file_extension": ".py",
   "mimetype": "text/x-python",
   "name": "python",
   "nbconvert_exporter": "python",
   "pygments_lexer": "ipython3",
   "version": "3.12.2"
  }
 },
 "nbformat": 4,
 "nbformat_minor": 2
}
